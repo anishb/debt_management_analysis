{
 "cells": [
  {
   "cell_type": "code",
   "execution_count": 93,
   "metadata": {
    "collapsed": true
   },
   "outputs": [],
   "source": [
    "import pandas as pd\n",
    "import matplotlib.pyplot as plt\n",
    "plt.style.use('fivethirtyeight')\n",
    "import seaborn as sns\n",
    "%matplotlib inline\n",
    "pd.set_option('display.max_rows', 200)"
   ]
  },
  {
   "cell_type": "code",
   "execution_count": 94,
   "metadata": {
    "collapsed": true
   },
   "outputs": [],
   "source": [
    "df = pd.read_csv('./data/LoanStats3b.csv', low_memory=False)"
   ]
  },
  {
   "cell_type": "code",
   "execution_count": 95,
   "metadata": {},
   "outputs": [],
   "source": [
    "def write_to_csv(loans):\n",
    "    num_files = 4\n",
    "    num_loans = loans.shape[0]\n",
    "    loans_per_file = num_loans / num_files\n",
    "    print \"%d loans per file\" % loans_per_file\n",
    "    start = 0\n",
    "    index = 0\n",
    "    while start < num_loans:\n",
    "        filename = './data/loans_2012_to_2013_' + str(index) + '.csv'\n",
    "        loans[start:start+loans_per_file].to_csv(filename, index=False)\n",
    "        print \"%s;%d;%d\" % (filename, start, start+loans_per_file)\n",
    "        start += loans_per_file\n",
    "        index += 1"
   ]
  },
  {
   "cell_type": "markdown",
   "metadata": {},
   "source": [
    "## Read in dataset of all loans issued by Lending Club in 2012 and 2013"
   ]
  },
  {
   "cell_type": "code",
   "execution_count": 98,
   "metadata": {},
   "outputs": [],
   "source": [
    "def read_from_csv():\n",
    "    dataframes = []\n",
    "    for i in range(5):\n",
    "        filename = './data/loans_2012_to_2013_' + str(i) + '.csv'\n",
    "        df = pd.read_csv(filename, low_memory=False)\n",
    "        dataframes.append(df)\n",
    "    loans = pd.concat(dataframes)\n",
    "    return loans"
   ]
  },
  {
   "cell_type": "code",
   "execution_count": 99,
   "metadata": {},
   "outputs": [],
   "source": [
    "loans = read_from_csv()"
   ]
  },
  {
   "cell_type": "markdown",
   "metadata": {},
   "source": [
    "# 154,621 of the 188,181 loans were taken out for credit card debt consolidation. We will only look at those loans for this analysis"
   ]
  },
  {
   "cell_type": "code",
   "execution_count": 100,
   "metadata": {},
   "outputs": [
    {
     "data": {
      "text/plain": [
       "(188181, 145)"
      ]
     },
     "execution_count": 100,
     "metadata": {},
     "output_type": "execute_result"
    }
   ],
   "source": [
    "loans.shape"
   ]
  },
  {
   "cell_type": "code",
   "execution_count": 102,
   "metadata": {},
   "outputs": [
    {
     "data": {
      "text/plain": [
       "debt_consolidation    111451\n",
       "credit_card            43170\n",
       "home_improvement       10297\n",
       "other                   8896\n",
       "major_purchase          3659\n",
       "small_business          2745\n",
       "car                     1951\n",
       "medical                 1519\n",
       "wedding                 1331\n",
       "house                   1093\n",
       "moving                  1038\n",
       "vacation                 909\n",
       "renewable_energy         122\n",
       "Name: purpose, dtype: int64"
      ]
     },
     "execution_count": 102,
     "metadata": {},
     "output_type": "execute_result"
    }
   ],
   "source": [
    "loans.purpose.value_counts()"
   ]
  },
  {
   "cell_type": "code",
   "execution_count": 103,
   "metadata": {},
   "outputs": [],
   "source": [
    "consolidation_loans = loans[(loans['purpose'] == 'debt_consolidation') | (loans['purpose'] == 'credit_card')]"
   ]
  },
  {
   "cell_type": "code",
   "execution_count": 104,
   "metadata": {},
   "outputs": [
    {
     "data": {
      "text/plain": [
       "(154621, 145)"
      ]
     },
     "execution_count": 104,
     "metadata": {},
     "output_type": "execute_result"
    }
   ],
   "source": [
    "consolidation_loans.shape"
   ]
  },
  {
   "cell_type": "markdown",
   "metadata": {},
   "source": [
    "# Some exploratory data analysis"
   ]
  },
  {
   "cell_type": "markdown",
   "metadata": {},
   "source": [
    "First remove all loans that haven't matured yet.\n",
    "We want to know a) average interest rate by subgrade, a2) average other debt, b) amortization chart of high vs low interest, c) default rate by subgrade, d) model of reducing interest rate by x% for good behavior, decrease default by y%. Is return of portfolio greater?"
   ]
  },
  {
   "cell_type": "code",
   "execution_count": 109,
   "metadata": {},
   "outputs": [
    {
     "data": {
      "text/plain": [
       "Fully Paid            123870\n",
       "Charged Off            23745\n",
       "Current                 6588\n",
       "Late (31-120 days)       224\n",
       "In Grace Period          140\n",
       "Late (16-30 days)         53\n",
       "Default                    1\n",
       "Name: loan_status, dtype: int64"
      ]
     },
     "execution_count": 109,
     "metadata": {},
     "output_type": "execute_result"
    }
   ],
   "source": [
    "consolidation_loans.loan_status.value_counts()"
   ]
  },
  {
   "cell_type": "code",
   "execution_count": 195,
   "metadata": {},
   "outputs": [
    {
     "name": "stderr",
     "output_type": "stream",
     "text": [
      "/Users/anishb/anaconda2/lib/python2.7/site-packages/ipykernel_launcher.py:2: SettingWithCopyWarning: \n",
      "A value is trying to be set on a copy of a slice from a DataFrame.\n",
      "Try using .loc[row_indexer,col_indexer] = value instead\n",
      "\n",
      "See the caveats in the documentation: http://pandas.pydata.org/pandas-docs/stable/indexing.html#indexing-view-versus-copy\n",
      "  \n"
     ]
    }
   ],
   "source": [
    "consolidation_loans.term = consolidation_loans.term.apply(lambda x: x.strip())\n",
    "consolidation_loans['issue_year'] = consolidation_loans.loc[:, 'issue_d'].apply(lambda x:x.split('-')[1])"
   ]
  },
  {
   "cell_type": "code",
   "execution_count": 196,
   "metadata": {
    "collapsed": true
   },
   "outputs": [],
   "source": [
    "consolidation_loans = consolidation_loans.loc[~((consolidation_loans.issue_year == '2013') & (consolidation_loans.term =='36 months')),:]"
   ]
  },
  {
   "cell_type": "code",
   "execution_count": 197,
   "metadata": {},
   "outputs": [
    {
     "data": {
      "text/plain": [
       "3        Dec-2013\n",
       "12       Dec-2013\n",
       "21       Dec-2013\n",
       "22       Dec-2013\n",
       "28       Dec-2013\n",
       "30       Dec-2013\n",
       "32       Dec-2013\n",
       "33       Dec-2013\n",
       "36       Dec-2013\n",
       "43       Dec-2013\n",
       "47       Dec-2013\n",
       "54       Dec-2013\n",
       "66       Dec-2013\n",
       "67       Dec-2013\n",
       "71       Dec-2013\n",
       "74       Dec-2013\n",
       "80       Dec-2013\n",
       "81       Dec-2013\n",
       "84       Dec-2013\n",
       "96       Dec-2013\n",
       "104      Dec-2013\n",
       "105      Dec-2013\n",
       "110      Dec-2013\n",
       "117      Dec-2013\n",
       "119      Dec-2013\n",
       "120      Dec-2013\n",
       "121      Dec-2013\n",
       "126      Dec-2013\n",
       "129      Dec-2013\n",
       "131      Dec-2013\n",
       "139      Dec-2013\n",
       "141      Dec-2013\n",
       "142      Dec-2013\n",
       "145      Dec-2013\n",
       "149      Dec-2013\n",
       "155      Dec-2013\n",
       "162      Dec-2013\n",
       "165      Dec-2013\n",
       "169      Dec-2013\n",
       "173      Dec-2013\n",
       "175      Dec-2013\n",
       "178      Dec-2013\n",
       "181      Dec-2013\n",
       "184      Dec-2013\n",
       "196      Dec-2013\n",
       "201      Dec-2013\n",
       "202      Dec-2013\n",
       "207      Dec-2013\n",
       "209      Dec-2013\n",
       "213      Dec-2013\n",
       "216      Dec-2013\n",
       "220      Dec-2013\n",
       "225      Dec-2013\n",
       "227      Dec-2013\n",
       "232      Dec-2013\n",
       "233      Dec-2013\n",
       "234      Dec-2013\n",
       "237      Dec-2013\n",
       "240      Dec-2013\n",
       "251      Dec-2013\n",
       "253      Dec-2013\n",
       "256      Dec-2013\n",
       "262      Dec-2013\n",
       "273      Dec-2013\n",
       "277      Dec-2013\n",
       "281      Dec-2013\n",
       "285      Dec-2013\n",
       "292      Dec-2013\n",
       "294      Dec-2013\n",
       "298      Dec-2013\n",
       "302      Dec-2013\n",
       "303      Dec-2013\n",
       "304      Dec-2013\n",
       "307      Dec-2013\n",
       "316      Dec-2013\n",
       "327      Dec-2013\n",
       "328      Dec-2013\n",
       "329      Dec-2013\n",
       "330      Dec-2013\n",
       "333      Dec-2013\n",
       "336      Dec-2013\n",
       "337      Dec-2013\n",
       "345      Dec-2013\n",
       "346      Dec-2013\n",
       "352      Dec-2013\n",
       "354      Dec-2013\n",
       "356      Dec-2013\n",
       "359      Dec-2013\n",
       "361      Dec-2013\n",
       "362      Dec-2013\n",
       "363      Dec-2013\n",
       "372      Dec-2013\n",
       "373      Dec-2013\n",
       "374      Dec-2013\n",
       "376      Dec-2013\n",
       "385      Dec-2013\n",
       "390      Dec-2013\n",
       "392      Dec-2013\n",
       "399      Dec-2013\n",
       "412      Dec-2013\n",
       "           ...   \n",
       "46914    Jan-2012\n",
       "46915    Jan-2012\n",
       "46916    Jan-2012\n",
       "46917    Jan-2012\n",
       "46918    Jan-2012\n",
       "46919    Jan-2012\n",
       "46920    Jan-2012\n",
       "46921    Jan-2012\n",
       "46922    Jan-2012\n",
       "46923    Jan-2012\n",
       "46924    Jan-2012\n",
       "46925    Jan-2012\n",
       "46926    Jan-2012\n",
       "46927    Jan-2012\n",
       "46928    Jan-2012\n",
       "46929    Jan-2012\n",
       "46930    Jan-2012\n",
       "46931    Jan-2012\n",
       "46932    Jan-2012\n",
       "46933    Jan-2012\n",
       "46934    Jan-2012\n",
       "46935    Jan-2012\n",
       "46937    Jan-2012\n",
       "46938    Jan-2012\n",
       "46939    Jan-2012\n",
       "46941    Jan-2012\n",
       "46945    Jan-2012\n",
       "46946    Jan-2012\n",
       "46948    Jan-2012\n",
       "46951    Jan-2012\n",
       "46953    Jan-2012\n",
       "46954    Jan-2012\n",
       "46956    Jan-2012\n",
       "46957    Jan-2012\n",
       "46959    Jan-2012\n",
       "46960    Jan-2012\n",
       "46961    Jan-2012\n",
       "46962    Jan-2012\n",
       "46963    Jan-2012\n",
       "46964    Jan-2012\n",
       "46967    Jan-2012\n",
       "46968    Jan-2012\n",
       "46970    Jan-2012\n",
       "46972    Jan-2012\n",
       "46973    Jan-2012\n",
       "46974    Jan-2012\n",
       "46975    Jan-2012\n",
       "46976    Jan-2012\n",
       "46977    Jan-2012\n",
       "46978    Jan-2012\n",
       "46979    Jan-2012\n",
       "46980    Jan-2012\n",
       "46981    Jan-2012\n",
       "46982    Jan-2012\n",
       "46985    Jan-2012\n",
       "46987    Jan-2012\n",
       "46989    Jan-2012\n",
       "46990    Jan-2012\n",
       "46991    Jan-2012\n",
       "46992    Jan-2012\n",
       "46993    Jan-2012\n",
       "46994    Jan-2012\n",
       "46995    Jan-2012\n",
       "46996    Jan-2012\n",
       "46997    Jan-2012\n",
       "46998    Jan-2012\n",
       "46999    Jan-2012\n",
       "47003    Jan-2012\n",
       "47004    Jan-2012\n",
       "47007    Jan-2012\n",
       "47008    Jan-2012\n",
       "47009    Jan-2012\n",
       "47010    Jan-2012\n",
       "47011    Jan-2012\n",
       "47012    Jan-2012\n",
       "47013    Jan-2012\n",
       "47014    Jan-2012\n",
       "47015    Jan-2012\n",
       "47017    Jan-2012\n",
       "47019    Jan-2012\n",
       "47020    Jan-2012\n",
       "47021    Jan-2012\n",
       "47023    Jan-2012\n",
       "47024    Jan-2012\n",
       "47025    Jan-2012\n",
       "47026    Jan-2012\n",
       "47027    Jan-2012\n",
       "47028    Jan-2012\n",
       "47029    Jan-2012\n",
       "47030    Jan-2012\n",
       "47031    Jan-2012\n",
       "47033    Jan-2012\n",
       "47034    Jan-2012\n",
       "47035    Jan-2012\n",
       "47036    Jan-2012\n",
       "47037    Jan-2012\n",
       "47039    Jan-2012\n",
       "47040    Jan-2012\n",
       "47041    Jan-2012\n",
       "0        Jan-2012\n",
       "Name: issue_d, Length: 70956, dtype: object"
      ]
     },
     "execution_count": 197,
     "metadata": {},
     "output_type": "execute_result"
    }
   ],
   "source": [
    "consolidation_loans.loc[:, 'issue_d']"
   ]
  },
  {
   "cell_type": "code",
   "execution_count": null,
   "metadata": {
    "collapsed": true
   },
   "outputs": [],
   "source": []
  }
 ],
 "metadata": {
  "kernelspec": {
   "display_name": "Python 2",
   "language": "python",
   "name": "python2"
  },
  "language_info": {
   "codemirror_mode": {
    "name": "ipython",
    "version": 2
   },
   "file_extension": ".py",
   "mimetype": "text/x-python",
   "name": "python",
   "nbconvert_exporter": "python",
   "pygments_lexer": "ipython2",
   "version": "2.7.13"
  }
 },
 "nbformat": 4,
 "nbformat_minor": 2
}
