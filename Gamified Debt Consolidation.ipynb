{
 "cells": [
  {
   "cell_type": "code",
   "execution_count": 1,
   "metadata": {
    "collapsed": true
   },
   "outputs": [],
   "source": [
    "import pandas as pd\n",
    "import numpy as np\n",
    "import matplotlib.pyplot as plt\n",
    "plt.style.use('fivethirtyeight')\n",
    "import seaborn as sns\n",
    "%matplotlib inline\n",
    "pd.set_option('display.max_rows', 200)"
   ]
  },
  {
   "cell_type": "code",
   "execution_count": 2,
   "metadata": {
    "collapsed": true
   },
   "outputs": [],
   "source": [
    "def write_to_csv(loans):\n",
    "    num_files = 4\n",
    "    num_loans = loans.shape[0]\n",
    "    loans_per_file = num_loans / num_files\n",
    "    print \"%d loans per file\" % loans_per_file\n",
    "    start = 0\n",
    "    index = 0\n",
    "    while start < num_loans:\n",
    "        filename = './data/loans_2012_to_2013_' + str(index) + '.csv'\n",
    "        loans[start:start+loans_per_file].to_csv(filename, index=False)\n",
    "        print \"%s;%d;%d\" % (filename, start, start+loans_per_file)\n",
    "        start += loans_per_file\n",
    "        index += 1"
   ]
  },
  {
   "cell_type": "markdown",
   "metadata": {},
   "source": [
    "## Read in dataset of all loans issued by Lending Club in 2012 and 2013"
   ]
  },
  {
   "cell_type": "code",
   "execution_count": 3,
   "metadata": {
    "collapsed": true
   },
   "outputs": [],
   "source": [
    "def read_from_csv():\n",
    "    dataframes = []\n",
    "    for i in range(5):\n",
    "        filename = './data/loans_2012_to_2013_' + str(i) + '.csv'\n",
    "        df = pd.read_csv(filename, low_memory=False)\n",
    "        dataframes.append(df)\n",
    "    loans = pd.concat(dataframes)\n",
    "    return loans"
   ]
  },
  {
   "cell_type": "code",
   "execution_count": 4,
   "metadata": {
    "collapsed": true
   },
   "outputs": [],
   "source": [
    "loans = read_from_csv()"
   ]
  },
  {
   "cell_type": "markdown",
   "metadata": {},
   "source": [
    "# 154,621 of the 188,181 loans were taken out for credit card debt consolidation. We will only look at those loans for this analysis"
   ]
  },
  {
   "cell_type": "code",
   "execution_count": 5,
   "metadata": {},
   "outputs": [
    {
     "data": {
      "text/plain": [
       "(188181, 145)"
      ]
     },
     "execution_count": 5,
     "metadata": {},
     "output_type": "execute_result"
    }
   ],
   "source": [
    "loans.shape"
   ]
  },
  {
   "cell_type": "code",
   "execution_count": 6,
   "metadata": {},
   "outputs": [
    {
     "data": {
      "text/plain": [
       "debt_consolidation    111451\n",
       "credit_card            43170\n",
       "home_improvement       10297\n",
       "other                   8896\n",
       "major_purchase          3659\n",
       "small_business          2745\n",
       "car                     1951\n",
       "medical                 1519\n",
       "wedding                 1331\n",
       "house                   1093\n",
       "moving                  1038\n",
       "vacation                 909\n",
       "renewable_energy         122\n",
       "Name: purpose, dtype: int64"
      ]
     },
     "execution_count": 6,
     "metadata": {},
     "output_type": "execute_result"
    }
   ],
   "source": [
    "loans.purpose.value_counts()"
   ]
  },
  {
   "cell_type": "code",
   "execution_count": 7,
   "metadata": {
    "collapsed": true
   },
   "outputs": [],
   "source": [
    "consolidation_loans = loans[(loans['purpose'] == 'debt_consolidation') | (loans['purpose'] == 'credit_card')]"
   ]
  },
  {
   "cell_type": "code",
   "execution_count": 8,
   "metadata": {},
   "outputs": [
    {
     "data": {
      "text/plain": [
       "(154621, 145)"
      ]
     },
     "execution_count": 8,
     "metadata": {},
     "output_type": "execute_result"
    }
   ],
   "source": [
    "consolidation_loans.shape"
   ]
  },
  {
   "cell_type": "markdown",
   "metadata": {},
   "source": [
    "# Some exploratory data analysis"
   ]
  },
  {
   "cell_type": "markdown",
   "metadata": {},
   "source": [
    "First remove all loans that haven't matured yet.\n",
    "We want to know\n",
    "* average interest rate by subgrade\n",
    "* average other debt. Any correlation to loan amount or grade.\n",
    "* amortization chart of high vs low interest\n",
    "* default rate by subgrade\n",
    "* model of reducing interest rate by x% for good behavior, decrease default by y%. Is return of portfolio greater?"
   ]
  },
  {
   "cell_type": "code",
   "execution_count": 9,
   "metadata": {},
   "outputs": [
    {
     "data": {
      "text/plain": [
       "Fully Paid            123870\n",
       "Charged Off            23745\n",
       "Current                 6588\n",
       "Late (31-120 days)       224\n",
       "In Grace Period          140\n",
       "Late (16-30 days)         53\n",
       "Default                    1\n",
       "Name: loan_status, dtype: int64"
      ]
     },
     "execution_count": 9,
     "metadata": {},
     "output_type": "execute_result"
    }
   ],
   "source": [
    "consolidation_loans.loan_status.value_counts()"
   ]
  },
  {
   "cell_type": "code",
   "execution_count": 10,
   "metadata": {},
   "outputs": [
    {
     "name": "stderr",
     "output_type": "stream",
     "text": [
      "/Users/anishb/anaconda2/lib/python2.7/site-packages/pandas/core/generic.py:3110: SettingWithCopyWarning: \n",
      "A value is trying to be set on a copy of a slice from a DataFrame.\n",
      "Try using .loc[row_indexer,col_indexer] = value instead\n",
      "\n",
      "See the caveats in the documentation: http://pandas.pydata.org/pandas-docs/stable/indexing.html#indexing-view-versus-copy\n",
      "  self[name] = value\n",
      "/Users/anishb/anaconda2/lib/python2.7/site-packages/ipykernel_launcher.py:4: SettingWithCopyWarning: \n",
      "A value is trying to be set on a copy of a slice from a DataFrame.\n",
      "Try using .loc[row_indexer,col_indexer] = value instead\n",
      "\n",
      "See the caveats in the documentation: http://pandas.pydata.org/pandas-docs/stable/indexing.html#indexing-view-versus-copy\n",
      "  after removing the cwd from sys.path.\n"
     ]
    }
   ],
   "source": [
    "# Remove whitespace from term and loan_status\n",
    "consolidation_loans.term = consolidation_loans.term.apply(lambda x: x.strip())\n",
    "consolidation_loans.loan_status = consolidation_loans.loan_status.apply(lambda x: x.strip())\n",
    "consolidation_loans['defaulted'] = consolidation_loans.loan_status.apply(lambda x: 1 if x == 'Charged Off' else 0)"
   ]
  },
  {
   "cell_type": "code",
   "execution_count": 11,
   "metadata": {
    "collapsed": true
   },
   "outputs": [],
   "source": [
    "# Remove loans that are still current\n",
    "consolidation_loans = consolidation_loans.loc[(consolidation_loans.loan_status == 'Fully Paid')\n",
    "                                              | (consolidation_loans.loan_status == 'Charged Off'),]"
   ]
  },
  {
   "cell_type": "code",
   "execution_count": 12,
   "metadata": {
    "collapsed": true
   },
   "outputs": [],
   "source": [
    "# Convert int_rate to a float\n",
    "consolidation_loans.int_rate = consolidation_loans.int_rate.apply(lambda x: float(x.strip()[:-1]))"
   ]
  },
  {
   "cell_type": "markdown",
   "metadata": {},
   "source": [
    "## Following conventions, interest rate is directly proportional to borrower credit risk"
   ]
  },
  {
   "cell_type": "code",
   "execution_count": 13,
   "metadata": {
    "collapsed": true
   },
   "outputs": [],
   "source": [
    "# Average interest rate and charge off by subgrade\n",
    "sub_grades = pd.unique(consolidation_loans.sub_grade)\n",
    "sub_grades.sort()\n",
    "mean_int_rates = []\n",
    "charge_off_percentage = []\n",
    "for sub_grade in sub_grades:\n",
    "    mean_int_rates.append(consolidation_loans.loc[consolidation_loans.sub_grade == sub_grade, 'int_rate'].mean())\n",
    "    num_charge_offs = consolidation_loans.loc[(consolidation_loans.sub_grade == sub_grade)\n",
    "                                              & (consolidation_loans.loan_status == 'Charged Off')].shape[0]\n",
    "    num_loans = consolidation_loans.loc[(consolidation_loans.sub_grade == sub_grade)].shape[0]\n",
    "    charge_off_percentage.append(float(num_charge_offs) / num_loans)"
   ]
  },
  {
   "cell_type": "code",
   "execution_count": 14,
   "metadata": {},
   "outputs": [
    {
     "data": {
      "image/png": "[encoded data removed]",
      "text/plain": [
       "<matplotlib.figure.Figure at 0x116c8e6d0>"
      ]
     },
     "metadata": {},
     "output_type": "display_data"
    },
    {
     "data": {
      "text/plain": [
       "<matplotlib.figure.Figure at 0x107244110>"
      ]
     },
     "metadata": {},
     "output_type": "display_data"
    }
   ],
   "source": [
    "fig = plt.figure(figsize=(15, 5))\n",
    "bar_locations = np.arange(len(sub_grades))\n",
    "plt.bar(bar_locations, mean_int_rates);\n",
    "plt.xticks(bar_locations, sub_grades)\n",
    "plt.ylabel('Average Interest Rate')\n",
    "plt.title('Loan subgrade vs Interest Rate')\n",
    "plt.figure(figsize=(35,5))\n",
    "plt.show()"
   ]
  },
  {
   "cell_type": "markdown",
   "metadata": {},
   "source": [
    "## As expected, default rates are higher in the lower grade loans"
   ]
  },
  {
   "cell_type": "code",
   "execution_count": 15,
   "metadata": {},
   "outputs": [
    {
     "data": {
      "image/png": "[encoded data removed]",
      "text/plain": [
       "<matplotlib.figure.Figure at 0x1142e5f50>"
      ]
     },
     "metadata": {},
     "output_type": "display_data"
    },
    {
     "data": {
      "text/plain": [
       "<matplotlib.figure.Figure at 0x11587f7d0>"
      ]
     },
     "metadata": {},
     "output_type": "display_data"
    }
   ],
   "source": [
    "fig = plt.figure(figsize=(15, 5))\n",
    "bar_locations = np.arange(len(sub_grades))\n",
    "plt.bar(bar_locations, charge_off_percentage);\n",
    "plt.xticks(bar_locations, sub_grades)\n",
    "plt.ylabel('Chargeoff rate')\n",
    "plt.title('Loan subgrade vs Chargeoff rate')\n",
    "plt.figure(figsize=(35,5))\n",
    "plt.show()"
   ]
  },
  {
   "cell_type": "markdown",
   "metadata": {},
   "source": [
    "## What are indicators of a borrower risk?"
   ]
  },
  {
   "cell_type": "code",
   "execution_count": 16,
   "metadata": {
    "collapsed": true
   },
   "outputs": [],
   "source": [
    "loans_risk = consolidation_loans[['defaulted', 'dti', 'delinq_2yrs', 'revol_util', 'inq_last_6mths', 'total_bal_ex_mort', 'mths_since_last_delinq']]\n",
    "loans_risk = loans_risk[loans_risk.revol_util.notnull()]\n",
    "loans_risk['revol_util'] = loans_risk.revol_util.apply(lambda x: float(x.strip()[:-1]))"
   ]
  },
  {
   "cell_type": "code",
   "execution_count": 17,
   "metadata": {},
   "outputs": [
    {
     "data": {
      "text/html": [
       "<div>\n",
       "<style>\n",
       "    .dataframe thead tr:only-child th {\n",
       "        text-align: right;\n",
       "    }\n",
       "\n",
       "    .dataframe thead th {\n",
       "        text-align: left;\n",
       "    }\n",
       "\n",
       "    .dataframe tbody tr th {\n",
       "        vertical-align: top;\n",
       "    }\n",
       "</style>\n",
       "<table border=\"1\" class=\"dataframe\">\n",
       "  <thead>\n",
       "    <tr style=\"text-align: right;\">\n",
       "      <th></th>\n",
       "      <th>defaulted</th>\n",
       "      <th>dti</th>\n",
       "      <th>delinq_2yrs</th>\n",
       "      <th>revol_util</th>\n",
       "      <th>inq_last_6mths</th>\n",
       "      <th>total_bal_ex_mort</th>\n",
       "      <th>mths_since_last_delinq</th>\n",
       "    </tr>\n",
       "  </thead>\n",
       "  <tbody>\n",
       "    <tr>\n",
       "      <th>defaulted</th>\n",
       "      <td>1.000000</td>\n",
       "      <td>0.088044</td>\n",
       "      <td>0.004091</td>\n",
       "      <td>0.066546</td>\n",
       "      <td>0.059740</td>\n",
       "      <td>-0.010195</td>\n",
       "      <td>0.000028</td>\n",
       "    </tr>\n",
       "    <tr>\n",
       "      <th>dti</th>\n",
       "      <td>0.088044</td>\n",
       "      <td>1.000000</td>\n",
       "      <td>-0.013931</td>\n",
       "      <td>0.155837</td>\n",
       "      <td>0.026787</td>\n",
       "      <td>0.308753</td>\n",
       "      <td>0.020216</td>\n",
       "    </tr>\n",
       "    <tr>\n",
       "      <th>delinq_2yrs</th>\n",
       "      <td>0.004091</td>\n",
       "      <td>-0.013931</td>\n",
       "      <td>1.000000</td>\n",
       "      <td>-0.019880</td>\n",
       "      <td>0.025075</td>\n",
       "      <td>0.032252</td>\n",
       "      <td>-0.588938</td>\n",
       "    </tr>\n",
       "    <tr>\n",
       "      <th>revol_util</th>\n",
       "      <td>0.066546</td>\n",
       "      <td>0.155837</td>\n",
       "      <td>-0.019880</td>\n",
       "      <td>1.000000</td>\n",
       "      <td>-0.081729</td>\n",
       "      <td>0.100757</td>\n",
       "      <td>0.037840</td>\n",
       "    </tr>\n",
       "    <tr>\n",
       "      <th>inq_last_6mths</th>\n",
       "      <td>0.059740</td>\n",
       "      <td>0.026787</td>\n",
       "      <td>0.025075</td>\n",
       "      <td>-0.081729</td>\n",
       "      <td>1.000000</td>\n",
       "      <td>0.087402</td>\n",
       "      <td>-0.003432</td>\n",
       "    </tr>\n",
       "    <tr>\n",
       "      <th>total_bal_ex_mort</th>\n",
       "      <td>-0.010195</td>\n",
       "      <td>0.308753</td>\n",
       "      <td>0.032252</td>\n",
       "      <td>0.100757</td>\n",
       "      <td>0.087402</td>\n",
       "      <td>1.000000</td>\n",
       "      <td>-0.027853</td>\n",
       "    </tr>\n",
       "    <tr>\n",
       "      <th>mths_since_last_delinq</th>\n",
       "      <td>0.000028</td>\n",
       "      <td>0.020216</td>\n",
       "      <td>-0.588938</td>\n",
       "      <td>0.037840</td>\n",
       "      <td>-0.003432</td>\n",
       "      <td>-0.027853</td>\n",
       "      <td>1.000000</td>\n",
       "    </tr>\n",
       "  </tbody>\n",
       "</table>\n",
       "</div>"
      ],
      "text/plain": [
       "                        defaulted       dti  delinq_2yrs  revol_util  \\\n",
       "defaulted                1.000000  0.088044     0.004091    0.066546   \n",
       "dti                      0.088044  1.000000    -0.013931    0.155837   \n",
       "delinq_2yrs              0.004091 -0.013931     1.000000   -0.019880   \n",
       "revol_util               0.066546  0.155837    -0.019880    1.000000   \n",
       "inq_last_6mths           0.059740  0.026787     0.025075   -0.081729   \n",
       "total_bal_ex_mort       -0.010195  0.308753     0.032252    0.100757   \n",
       "mths_since_last_delinq   0.000028  0.020216    -0.588938    0.037840   \n",
       "\n",
       "                        inq_last_6mths  total_bal_ex_mort  \\\n",
       "defaulted                     0.059740          -0.010195   \n",
       "dti                           0.026787           0.308753   \n",
       "delinq_2yrs                   0.025075           0.032252   \n",
       "revol_util                   -0.081729           0.100757   \n",
       "inq_last_6mths                1.000000           0.087402   \n",
       "total_bal_ex_mort             0.087402           1.000000   \n",
       "mths_since_last_delinq       -0.003432          -0.027853   \n",
       "\n",
       "                        mths_since_last_delinq  \n",
       "defaulted                             0.000028  \n",
       "dti                                   0.020216  \n",
       "delinq_2yrs                          -0.588938  \n",
       "revol_util                            0.037840  \n",
       "inq_last_6mths                       -0.003432  \n",
       "total_bal_ex_mort                    -0.027853  \n",
       "mths_since_last_delinq                1.000000  "
      ]
     },
     "execution_count": 17,
     "metadata": {},
     "output_type": "execute_result"
    }
   ],
   "source": [
    "loans_risk.corr()"
   ]
  },
  {
   "cell_type": "markdown",
   "metadata": {},
   "source": [
    "As expected, dti (debt to income ratio), number of credit inquiries in the past 6 months, and revolving credit utilization have a strong correlation to borrower default."
   ]
  },
  {
   "cell_type": "markdown",
   "metadata": {},
   "source": [
    "## Let's take a look at 3 year loans"
   ]
  },
  {
   "cell_type": "code",
   "execution_count": 18,
   "metadata": {},
   "outputs": [
    {
     "name": "stdout",
     "output_type": "stream",
     "text": [
      "Average Grade A Interest Rate = 7.722641\n",
      "Average Grade G Interest Rate = 24.969615\n",
      "Average loan amount = $12983\n"
     ]
    }
   ],
   "source": [
    "a_avg_int_rate = consolidation_loans.loc[((consolidation_loans.grade == 'A') &\n",
    "                                          (consolidation_loans.term == '36 months')),].int_rate.mean()\n",
    "g_avg_int_rate = consolidation_loans.loc[((consolidation_loans.grade == 'G') &\n",
    "                                         (consolidation_loans.term == '36 months')),].int_rate.mean()\n",
    "average_loan_amount = consolidation_loans.loc[consolidation_loans.term == '36 months'].loan_amnt.mean()\n",
    "print 'Average Grade A Interest Rate = %f' % a_avg_int_rate\n",
    "print 'Average Grade G Interest Rate = %f' % g_avg_int_rate\n",
    "print 'Average loan amount = $%d' % int(average_loan_amount)"
   ]
  },
  {
   "cell_type": "code",
   "execution_count": 19,
   "metadata": {
    "collapsed": true
   },
   "outputs": [],
   "source": [
    "class FixedInterestCalculator(object):\n",
    "    \n",
    "    def __init__(self, principal, interest_rate, num_months):\n",
    "        self.principal = principal\n",
    "        self.interest_rate = interest_rate\n",
    "        self.num_months = num_months\n",
    "        self._rate_per_month = interest_rate / 12.0\n",
    "        self._monthly_payment = self.monthly_payment()\n",
    "        self._balance = {}\n",
    "        self._interest_payment = {}\n",
    "        self._principal_payment = {}\n",
    "        \n",
    "    def monthly_payment(self):\n",
    "        r = self.interest_rate / 12.0\n",
    "        payment = (r * self.principal) / (1 - (1 + r)**(-self.num_months))\n",
    "        return payment\n",
    "    \n",
    "    def balance(self, month):\n",
    "        if month == 0:\n",
    "            return self.principal\n",
    "        if month in self._balance:\n",
    "            return self._balance[month]\n",
    "        self._balance[month] = self.balance(month - 1) - self.principal_payment(month)\n",
    "        return self._balance[month]\n",
    "    \n",
    "    def interest_payment(self, month):\n",
    "        if month == 0:\n",
    "            return 0.0\n",
    "        if month in self._interest_payment:\n",
    "            return self._interest_payment[month]\n",
    "        self._interest_payment[month] = self._rate_per_month * self.balance(month - 1)\n",
    "        return self._interest_payment[month]\n",
    "    \n",
    "    def principal_payment(self, month):\n",
    "        if month == 0:\n",
    "            return 0.0\n",
    "        if month in self._principal_payment:\n",
    "            return self._principal_payment[month]\n",
    "        self._principal_payment[month] = self._monthly_payment - self.interest_payment(month)\n",
    "        return self._principal_payment[month]\n",
    "    \n",
    "    def total_interest(self):\n",
    "        return (self.num_months * self._monthly_payment) - self.principal"
   ]
  },
  {
   "cell_type": "markdown",
   "metadata": {},
   "source": [
    "### What does the amortization look like for the average grade A, 3 year loan => 12,983 at 7.72% interest"
   ]
  },
  {
   "cell_type": "code",
   "execution_count": 20,
   "metadata": {
    "collapsed": true
   },
   "outputs": [],
   "source": [
    "calculator = FixedInterestCalculator(12983.00, 0.0772, 36)\n",
    "months = np.arange(1, 37)\n",
    "interest, principal = [], []\n",
    "for month in months:\n",
    "    interest.append(calculator.interest_payment(month))\n",
    "    principal.append(calculator.principal_payment(month))"
   ]
  },
  {
   "cell_type": "code",
   "execution_count": 21,
   "metadata": {},
   "outputs": [
    {
     "data": {
      "image/png": "[encoded data removed]",
      "text/plain": [
       "<matplotlib.figure.Figure at 0x11569ac50>"
      ]
     },
     "metadata": {},
     "output_type": "display_data"
    },
    {
     "data": {
      "text/plain": [
       "<matplotlib.figure.Figure at 0x114e84390>"
      ]
     },
     "metadata": {},
     "output_type": "display_data"
    }
   ],
   "source": [
    "width = 0.75\n",
    "fig = plt.figure(figsize=(15, 5))\n",
    "p1 = plt.bar(months, principal, width)\n",
    "p2 = plt.bar(months, interest, width, bottom=principal)\n",
    "plt.ylabel('Monthly Payment')\n",
    "plt.title('Principal and interest payments')\n",
    "plt.xticks(months)\n",
    "plt.legend((p1[0], p2[0]), ('Principal', 'Interest'))\n",
    "plt.figure(figsize=(60,5))\n",
    "plt.show();"
   ]
  },
  {
   "cell_type": "code",
   "execution_count": 22,
   "metadata": {},
   "outputs": [
    {
     "name": "stdout",
     "output_type": "stream",
     "text": [
      "Monthly payments = $405.17\n",
      "Total interest paid = $1602.94\n"
     ]
    }
   ],
   "source": [
    "print \"Monthly payments = $%.2f\" % calculator.monthly_payment()\n",
    "print \"Total interest paid = $%.2f\" % calculator.total_interest()"
   ]
  },
  {
   "cell_type": "markdown",
   "metadata": {},
   "source": [
    "### What does the respective amortization look like for the average grade G, 3 year loan => 12,983 at 24.97% interest"
   ]
  },
  {
   "cell_type": "code",
   "execution_count": 23,
   "metadata": {
    "collapsed": true
   },
   "outputs": [],
   "source": [
    "calculator = FixedInterestCalculator(12983.00, 0.2497, 36)\n",
    "months = np.arange(1, 37)\n",
    "interest, principal = [], []\n",
    "for month in months:\n",
    "    interest.append(calculator.interest_payment(month))\n",
    "    principal.append(calculator.principal_payment(month))"
   ]
  },
  {
   "cell_type": "code",
   "execution_count": 24,
   "metadata": {},
   "outputs": [
    {
     "data": {
      "image/png": "[encoded data removed]",
      "text/plain": [
       "<matplotlib.figure.Figure at 0x1143a7c90>"
      ]
     },
     "metadata": {},
     "output_type": "display_data"
    },
    {
     "data": {
      "text/plain": [
       "<matplotlib.figure.Figure at 0x11569a9d0>"
      ]
     },
     "metadata": {},
     "output_type": "display_data"
    }
   ],
   "source": [
    "width = 0.75\n",
    "fig = plt.figure(figsize=(15, 5))\n",
    "p1 = plt.bar(months, principal, width)\n",
    "p2 = plt.bar(months, interest, width, bottom=principal)\n",
    "plt.ylabel('Monthly Payment')\n",
    "plt.title('Principal and interest payments')\n",
    "plt.xticks(months)\n",
    "plt.legend((p1[0], p2[0]), ('Principal', 'Interest'))\n",
    "plt.figure(figsize=(60,5))\n",
    "plt.show();"
   ]
  },
  {
   "cell_type": "code",
   "execution_count": 25,
   "metadata": {},
   "outputs": [
    {
     "name": "stdout",
     "output_type": "stream",
     "text": [
      "Monthly payments = $516.00\n",
      "Total interest paid = $5592.85\n"
     ]
    }
   ],
   "source": [
    "print \"Monthly payments = $%.2f\" % calculator.monthly_payment()\n",
    "print \"Total interest paid = $%.2f\" % calculator.total_interest()"
   ]
  },
  {
   "cell_type": "markdown",
   "metadata": {
    "collapsed": true
   },
   "source": [
    "### What if we raise the interest by 10%, but incentivize the borrower to exhibit good financial behavior with a 30% rebate on interest payments?"
   ]
  },
  {
   "cell_type": "code",
   "execution_count": 26,
   "metadata": {
    "collapsed": true
   },
   "outputs": [],
   "source": [
    "class RebateInterestCalculator(FixedInterestCalculator):\n",
    "    \n",
    "    def __init__(self, principal, interest_rate, num_months, rebate_rate):\n",
    "        super(RebateInterestCalculator, self).__init__(principal, interest_rate, num_months)\n",
    "        self.rebate_rate = rebate_rate\n",
    "        \n",
    "    def total_rebates(self):\n",
    "        return self.total_interest() * self.rebate_rate\n",
    "    \n",
    "    def rebate(self, month):\n",
    "        if month == 0:\n",
    "            return 0.0\n",
    "        index = self.num_months - month + 1\n",
    "        return self.interest_payment(index) * self.rebate_rate\n",
    "    \n",
    "    def effective_interest(self):\n",
    "        return self.total_interest() - self.total_rebates()"
   ]
  },
  {
   "cell_type": "code",
   "execution_count": 27,
   "metadata": {
    "collapsed": true
   },
   "outputs": [],
   "source": [
    "calculator = RebateInterestCalculator(12983.00, 0.2497 * 1.10, 36, 0.30)\n",
    "months = np.arange(1, 37)\n",
    "rebates = []\n",
    "for month in months:\n",
    "    rebates.append(calculator.rebate(month))"
   ]
  },
  {
   "cell_type": "code",
   "execution_count": 28,
   "metadata": {},
   "outputs": [
    {
     "data": {
      "image/png": "[encoded data removed]",
      "text/plain": [
       "<matplotlib.figure.Figure at 0x11434c650>"
      ]
     },
     "metadata": {},
     "output_type": "display_data"
    },
    {
     "data": {
      "text/plain": [
       "<matplotlib.figure.Figure at 0x115be5e90>"
      ]
     },
     "metadata": {},
     "output_type": "display_data"
    }
   ],
   "source": [
    "width = 0.75\n",
    "fig = plt.figure(figsize=(15, 5))\n",
    "p1 = plt.bar(months, rebates, width)\n",
    "plt.ylabel('Max Monthly Rebate')\n",
    "plt.title('Monthly Rebates')\n",
    "plt.xticks(months)\n",
    "plt.figure(figsize=(60,5))\n",
    "plt.show();"
   ]
  },
  {
   "cell_type": "code",
   "execution_count": 29,
   "metadata": {},
   "outputs": [
    {
     "name": "stdout",
     "output_type": "stream",
     "text": [
      "Monthly payments = $533.29\n",
      "Total interest paid = $6215.51\n",
      "Max rebates earnable = $1864.65\n",
      "Efective interest paid = $4350.86\n"
     ]
    }
   ],
   "source": [
    "print \"Monthly payments = $%.2f\" % calculator.monthly_payment()\n",
    "print \"Total interest paid = $%.2f\" % calculator.total_interest()\n",
    "print \"Max rebates earnable = $%.2f\" % calculator.total_rebates()\n",
    "print \"Efective interest paid = $%.2f\" % calculator.effective_interest()"
   ]
  },
  {
   "cell_type": "markdown",
   "metadata": {},
   "source": [
    "### What does this look like for a typical grade A loan? Not that much in rebates"
   ]
  },
  {
   "cell_type": "code",
   "execution_count": 30,
   "metadata": {
    "collapsed": true
   },
   "outputs": [],
   "source": [
    "calculator = RebateInterestCalculator(12983.00, 0.0772 * 1.10, 36, 0.30)\n",
    "months = np.arange(1, 37)\n",
    "rebates = []\n",
    "for month in months:\n",
    "    rebates.append(calculator.rebate(month))"
   ]
  },
  {
   "cell_type": "code",
   "execution_count": 31,
   "metadata": {},
   "outputs": [
    {
     "data": {
      "image/png": "[encoded data removed]",
      "text/plain": [
       "<matplotlib.figure.Figure at 0x116837d90>"
      ]
     },
     "metadata": {},
     "output_type": "display_data"
    },
    {
     "data": {
      "text/plain": [
       "<matplotlib.figure.Figure at 0x11682b7d0>"
      ]
     },
     "metadata": {},
     "output_type": "display_data"
    }
   ],
   "source": [
    "width = 0.75\n",
    "fig = plt.figure(figsize=(15, 5))\n",
    "p1 = plt.bar(months, rebates, width)\n",
    "plt.ylabel('Max Monthly Rebate')\n",
    "plt.title('Monthly Rebates')\n",
    "plt.xticks(months)\n",
    "plt.figure(figsize=(60,5))\n",
    "plt.show();"
   ]
  },
  {
   "cell_type": "code",
   "execution_count": 32,
   "metadata": {},
   "outputs": [
    {
     "name": "stdout",
     "output_type": "stream",
     "text": [
      "Monthly payments = $409.79\n",
      "Total interest paid = $1769.56\n",
      "Max rebates earnable = $530.87\n",
      "Efective interest paid = $1238.69\n"
     ]
    }
   ],
   "source": [
    "print \"Monthly payments = $%.2f\" % calculator.monthly_payment()\n",
    "print \"Total interest paid = $%.2f\" % calculator.total_interest()\n",
    "print \"Max rebates earnable = $%.2f\" % calculator.total_rebates()\n",
    "print \"Efective interest paid = $%.2f\" % calculator.effective_interest()"
   ]
  },
  {
   "cell_type": "code",
   "execution_count": 33,
   "metadata": {
    "collapsed": true
   },
   "outputs": [],
   "source": [
    "from random import random\n",
    "from datetime import datetime\n",
    "class YieldSimulator(object):\n",
    "    \n",
    "    def __init__(self, dataframe, rate_adjustment, rebate_rate, default_decrease_rate):\n",
    "        self.df = dataframe.copy()\n",
    "        self.rate_adjustment = rate_adjustment\n",
    "        self.rebate_rate = rebate_rate\n",
    "        self.default_decrease_rate = default_decrease_rate\n",
    "        \n",
    "    def _num_payments_made(self, row):\n",
    "        issue_date = datetime.strptime(row.issue_d, '%b-%Y')\n",
    "        last_payment_date = datetime.strptime(row.last_pymnt_d, '%b-%Y')\n",
    "        if last_payment_date.month >= issue_date.month:\n",
    "            years = last_payment_date.year - issue_date.year\n",
    "            num_payments = years * 12\n",
    "            num_payments += last_payment_date.month - issue_date.month\n",
    "        else:\n",
    "            years = last_payment_date.year - issue_date.year - 1\n",
    "            num_payments = years * 12\n",
    "            num_payments += 12 - (issue_date.month - last_payment_date.month)\n",
    "        return num_payments\n",
    "        \n",
    "    def clean(self):\n",
    "        self.df['num_payments_made'] = self.df.apply(lambda row: self._num_payments_made(row) if pd.notnull(row['last_pymnt_d']) else 0, axis=1)\n",
    "        self.df['term'] = self.df.term.apply(lambda x: int(x.strip().split(' ')[0]))\n",
    "    \n",
    "    def num_loans(self):\n",
    "        return self.df.shape[0]\n",
    "    \n",
    "    def num_loans_charged_off(self):\n",
    "        return self.df.loc[self.df.loan_status == 'Charged Off',].shape[0]\n",
    "    \n",
    "    def num_prepayed(self):\n",
    "        return self.df.loc[(simulator.df.loan_status == 'Fully Paid') & (self.df.num_payments_made < self.df.term)].shape[0]\n",
    "    \n",
    "    def total_collected(self):\n",
    "        return self.total_interest_collected() + self.total_principal_collected() + self.total_late_fees_collected() \\\n",
    "            + self.total_recovered()\n",
    "    \n",
    "    def total_interest_collected(self):\n",
    "        return self.df['total_rec_int'].sum()\n",
    "    \n",
    "    def total_principal_collected(self):\n",
    "        return self.df['total_rec_prncp'].sum()\n",
    "    \n",
    "    def total_late_fees_collected(self):\n",
    "        return self.df['total_rec_late_fee'].sum()\n",
    "    \n",
    "    def total_recovered(self):\n",
    "        return self.df['recoveries'].sum()\n",
    "    \n",
    "    def simulated_interest_collected(self):\n",
    "        return self.simulated_df['total_rec_int'].sum()\n",
    "    \n",
    "    def simulated_principal_collected(self):\n",
    "        return self.simulated_df['total_rec_prncp'].sum()\n",
    "    \n",
    "    def simulated_late_fees_collected(self):\n",
    "        return self.simulated_df['total_rec_late_fee'].sum()\n",
    "    \n",
    "    def simulated_recovered(self):\n",
    "        return self.simulated_df['recoveries'].sum()\n",
    "    \n",
    "    def simulated_rebates(self):\n",
    "        return self.simulated_df['rebates_earned'].sum()\n",
    "    \n",
    "    def simulated_yield(self):\n",
    "        return self.simulated_interest_collected() + self.simulated_principal_collected() \\\n",
    "        + self.simulated_late_fees_collected() + self.simulated_recovered() - self.simulated_rebates()\n",
    "    \n",
    "    def _adjust_charged_off(self, row):\n",
    "        if row.loan_status == 'Fully Paid':\n",
    "            return row\n",
    "        # Assume 50% reduction in charge offs\n",
    "        if random() > self.default_decrease_rate:\n",
    "            return row\n",
    "        calculator = FixedInterestCalculator(row.loan_amnt, row.int_rate / 100.0, row.term)\n",
    "        row['loan_status'] = 'Fully Paid'\n",
    "        row['total_rec_prncp'] = row.loan_amnt\n",
    "        row['total_rec_int'] = calculator.total_interest()\n",
    "        row['recoveries'] = 0.0\n",
    "        return row\n",
    "    \n",
    "    def _calculate_rebates_earned(self, row):\n",
    "        calculator = RebateInterestCalculator(row.loan_amnt, row.int_rate / 100.0, row.term, self.rebate_rate)\n",
    "        num_payments = row.num_payments_made if row.num_payments_made < row.term else row.term\n",
    "        rebates = []\n",
    "        for i in xrange(num_payments + 1):\n",
    "            rebates.append(calculator.rebate(i))\n",
    "        return sum(rebates)\n",
    "    \n",
    "    def simulate(self):\n",
    "        self.simulated_df = self.df.copy()\n",
    "        self.simulated_df['int_rate'] = self.simulated_df.int_rate.apply(lambda x: x * (1 + self.rate_adjustment))\n",
    "        self.simulated_df['total_rec_int'] = self.simulated_df.total_rec_int.apply(lambda x: x * (1 + self.rate_adjustment))\n",
    "        # Assume delinquencies / late fees go down 75%\n",
    "        self.simulated_df['total_rec_late_fee'] = self.simulated_df.total_rec_late_fee.apply(lambda x: x * 0.25)\n",
    "        self.simulated_df = self.simulated_df.apply(self._adjust_charged_off, axis=1)\n",
    "        self.simulated_df['rebates_earned'] = self.simulated_df.apply(self._calculate_rebates_earned, axis=1)"
   ]
  },
  {
   "cell_type": "markdown",
   "metadata": {},
   "source": [
    "## Summary of loan portfolio yield without any changes"
   ]
  },
  {
   "cell_type": "code",
   "execution_count": 34,
   "metadata": {},
   "outputs": [
    {
     "name": "stdout",
     "output_type": "stream",
     "text": [
      "Number of loans = 147615\n",
      "Number that defaulted = 23745 (16.09%)\n",
      "Number that prepayed = 84210 (57.05%)\n",
      "Total interest collected = $463,937,964.81\n",
      "Total principal collected = $1,925,798,653.94\n",
      "Total late fees collected = $131,404.89\n",
      "Total post charge off recoveries = $28,280,468.63\n",
      "Total yield = $2,418,148,492.27\n"
     ]
    }
   ],
   "source": [
    "simulator = YieldSimulator(consolidation_loans, 0.10, 0.30, 0.5)\n",
    "simulator.clean()\n",
    "num_loans = simulator.num_loans()\n",
    "num_charged_off = simulator.num_loans_charged_off()\n",
    "num_prepayed = simulator.num_prepayed()\n",
    "print \"Number of loans = {}\".format(num_loans)\n",
    "print \"Number that defaulted = {} ({:,.2f}%)\".format(num_charged_off, num_charged_off * 100.0 / num_loans)\n",
    "print \"Number that prepayed = {} ({:,.2f}%)\".format(simulator.num_prepayed(), num_prepayed * 100.0 / num_loans)\n",
    "print \"Total interest collected = ${0:,.2f}\".format(simulator.total_interest_collected())\n",
    "print \"Total principal collected = ${0:,.2f}\".format(simulator.total_principal_collected())\n",
    "print \"Total late fees collected = ${0:,.2f}\".format(simulator.total_late_fees_collected())\n",
    "print \"Total post charge off recoveries = ${0:,.2f}\".format(simulator.total_recovered())\n",
    "print \"Total yield = ${0:,.2f}\".format(simulator.total_collected())"
   ]
  },
  {
   "cell_type": "markdown",
   "metadata": {},
   "source": [
    "## Assume a 10% increase in interest rates and 30% rebates earned per month, resulting in a 50% reduction in delinquincies and defaults."
   ]
  },
  {
   "cell_type": "code",
   "execution_count": 35,
   "metadata": {},
   "outputs": [
    {
     "name": "stdout",
     "output_type": "stream",
     "text": [
      "Total interest collected = $549,494,679.40\n",
      "Total principal collected = $2,048,200,272.03\n",
      "Total late fees collected = $32,851.22\n",
      "Total post charge off recoveries = $13,973,497.15\n",
      "Total rebates paid out = $97,129,626.69\n",
      "Total yield = $2,514,571,673.11\n"
     ]
    }
   ],
   "source": [
    "simulator.simulate()\n",
    "print \"Total interest collected = ${0:,.2f}\".format(simulator.simulated_interest_collected())\n",
    "print \"Total principal collected = ${0:,.2f}\".format(simulator.simulated_principal_collected())\n",
    "print \"Total late fees collected = ${0:,.2f}\".format(simulator.simulated_late_fees_collected())\n",
    "print \"Total post charge off recoveries = ${0:,.2f}\".format(simulator.simulated_recovered())\n",
    "print \"Total rebates paid out = ${0:,.2f}\".format(simulator.simulated_rebates())\n",
    "print \"Total yield = ${0:,.2f}\".format(simulator.simulated_yield())"
   ]
  },
  {
   "cell_type": "markdown",
   "metadata": {},
   "source": [
    "## So do these borrowers have other debt?"
   ]
  },
  {
   "cell_type": "markdown",
   "metadata": {},
   "source": [
    "Since it has more information, let's read in data from the first 3 quarters of 2017. "
   ]
  },
  {
   "cell_type": "code",
   "execution_count": 36,
   "metadata": {
    "collapsed": true
   },
   "outputs": [],
   "source": [
    "def read_from_csv():\n",
    "    dataframes = []\n",
    "    for i in range(8):\n",
    "        filename = './data/loans_2017_Q1_to_Q3_' + str(i) + '.csv'\n",
    "        df = pd.read_csv(filename, low_memory=False)\n",
    "        dataframes.append(df)\n",
    "    loans = pd.concat(dataframes)\n",
    "    return loans\n",
    "\n",
    "loans = read_from_csv()"
   ]
  },
  {
   "cell_type": "code",
   "execution_count": 37,
   "metadata": {},
   "outputs": [
    {
     "data": {
      "text/plain": [
       "debt_consolidation    182631\n",
       "credit_card            66159\n",
       "home_improvement       26015\n",
       "other                  22211\n",
       "major_purchase          7913\n",
       "medical                 4920\n",
       "car                     3964\n",
       "small_business          3445\n",
       "vacation                3154\n",
       "moving                  2744\n",
       "house                   1559\n",
       "renewable_energy         215\n",
       "wedding                    1\n",
       "Name: purpose, dtype: int64"
      ]
     },
     "execution_count": 37,
     "metadata": {},
     "output_type": "execute_result"
    }
   ],
   "source": [
    "loans.purpose.value_counts()"
   ]
  },
  {
   "cell_type": "code",
   "execution_count": 38,
   "metadata": {
    "collapsed": true
   },
   "outputs": [],
   "source": [
    "loans = loans[(loans['purpose'] == 'debt_consolidation') | (loans['purpose'] == 'credit_card')]"
   ]
  },
  {
   "cell_type": "code",
   "execution_count": 39,
   "metadata": {
    "collapsed": true
   },
   "outputs": [],
   "source": [
    "# Normalize outliers to median\n",
    "loans.loc[loans.tot_cur_bal > loans.tot_cur_bal.quantile(.98), 'tot_cur_bal'] = loans.tot_cur_bal.median()\n",
    "loans.loc[loans.total_bal_il > loans.total_bal_il.quantile(.98), 'total_bal_il'] = loans.total_bal_il.median()\n",
    "loans.loc[loans.open_act_il > loans.open_act_il.quantile(.98), 'open_act_il'] = loans.open_act_il.median()"
   ]
  },
  {
   "cell_type": "markdown",
   "metadata": {},
   "source": [
    "### Total balance across all loans"
   ]
  },
  {
   "cell_type": "code",
   "execution_count": 40,
   "metadata": {},
   "outputs": [
    {
     "data": {
      "image/png": "[encoded data removed]",
      "text/plain": [
       "<matplotlib.figure.Figure at 0x11ebdecd0>"
      ]
     },
     "metadata": {},
     "output_type": "display_data"
    }
   ],
   "source": [
    "sns.distplot(loans.tot_cur_bal, axlabel='Total loan balance');"
   ]
  },
  {
   "cell_type": "markdown",
   "metadata": {},
   "source": [
    "### Total balance for installment loans"
   ]
  },
  {
   "cell_type": "code",
   "execution_count": 41,
   "metadata": {},
   "outputs": [
    {
     "data": {
      "image/png": "[encoded data removed]",
      "text/plain": [
       "<matplotlib.figure.Figure at 0x11ebe1b10>"
      ]
     },
     "metadata": {},
     "output_type": "display_data"
    }
   ],
   "source": [
    "sns.distplot(loans.total_bal_il, axlabel='Total installment balance');"
   ]
  },
  {
   "cell_type": "markdown",
   "metadata": {},
   "source": [
    "### Number of installment loans"
   ]
  },
  {
   "cell_type": "code",
   "execution_count": 42,
   "metadata": {},
   "outputs": [
    {
     "data": {
      "text/plain": [
       "<matplotlib.axes._subplots.AxesSubplot at 0x1164e13d0>"
      ]
     },
     "execution_count": 42,
     "metadata": {},
     "output_type": "execute_result"
    },
    {
     "data": {
      "image/png": "[encoded data removed]",
      "text/plain": [
       "<matplotlib.figure.Figure at 0x1164d0f50>"
      ]
     },
     "metadata": {},
     "output_type": "display_data"
    }
   ],
   "source": [
    "loans.open_act_il.hist(bins=30, figsize=(10, 6), xlabelsize=15, ylabelsize=15)"
   ]
  },
  {
   "cell_type": "markdown",
   "metadata": {},
   "source": [
    "## About 57% of the loans were prepayed before maturity."
   ]
  },
  {
   "cell_type": "markdown",
   "metadata": {},
   "source": [
    "### Number of payments made for 3 year loans that were pre-paid"
   ]
  },
  {
   "cell_type": "code",
   "execution_count": 43,
   "metadata": {},
   "outputs": [
    {
     "data": {
      "image/png": "[encoded data removed]",
      "text/plain": [
       "<matplotlib.figure.Figure at 0x116259a10>"
      ]
     },
     "metadata": {},
     "output_type": "display_data"
    }
   ],
   "source": [
    "prepaid = simulator.df.loc[(simulator.df.loan_status == 'Fully Paid') & (simulator.df.num_payments_made < simulator.df.term)]\n",
    "sns.distplot(prepaid.loc[prepaid.term == 36].num_payments_made, kde=False, bins=36);"
   ]
  },
  {
   "cell_type": "markdown",
   "metadata": {},
   "source": [
    "### Number of payments made for 5 year loans that were pre-paid"
   ]
  },
  {
   "cell_type": "code",
   "execution_count": 44,
   "metadata": {},
   "outputs": [
    {
     "data": {
      "image/png": "[encoded data removed]",
      "text/plain": [
       "<matplotlib.figure.Figure at 0x1163bc390>"
      ]
     },
     "metadata": {},
     "output_type": "display_data"
    }
   ],
   "source": [
    "sns.distplot(prepaid.loc[prepaid.term == 60].num_payments_made, kde=False, bins=60);"
   ]
  },
  {
   "cell_type": "markdown",
   "metadata": {},
   "source": [
    "### Prepayed loans by loan amount for 3 year loans. Smaller loans are more likely to be pre-paid."
   ]
  },
  {
   "cell_type": "code",
   "execution_count": 45,
   "metadata": {},
   "outputs": [
    {
     "data": {
      "image/png": "[encoded data removed]",
      "text/plain": [
       "<matplotlib.figure.Figure at 0x113c84410>"
      ]
     },
     "metadata": {},
     "output_type": "display_data"
    }
   ],
   "source": [
    "sns.distplot(prepaid.loc[prepaid.term == 36].loan_amnt, bins=7);"
   ]
  },
  {
   "cell_type": "markdown",
   "metadata": {},
   "source": [
    "### Prepayed loans by loan amount for 5 year loans."
   ]
  },
  {
   "cell_type": "code",
   "execution_count": 46,
   "metadata": {},
   "outputs": [
    {
     "data": {
      "image/png": "[encoded data removed]",
      "text/plain": [
       "<matplotlib.figure.Figure at 0x113d6dc10>"
      ]
     },
     "metadata": {},
     "output_type": "display_data"
    }
   ],
   "source": [
    "sns.distplot(prepaid.loc[prepaid.term == 60].loan_amnt, bins=7);"
   ]
  },
  {
   "cell_type": "markdown",
   "metadata": {
    "collapsed": true
   },
   "source": [
    "## FICO score changes over time"
   ]
  },
  {
   "cell_type": "code",
   "execution_count": 55,
   "metadata": {},
   "outputs": [],
   "source": [
    "loans['fico_avg'] = loans.apply(lambda row: (row.fico_range_low + row.fico_range_high) / 2, axis=1)\n",
    "loans['last_fico_avg'] = loans.apply(lambda row: (row.last_fico_range_low + row.fico_range_high) / 2, axis=1)\n",
    "loans['fico_change'] = loans.apply(lambda row: row.last_fico_avg - row.fico_avg, axis=1)"
   ]
  },
  {
   "cell_type": "code",
   "execution_count": 125,
   "metadata": {},
   "outputs": [],
   "source": [
    "jan_loans = loans.loc[(loans.issue_d == 'Jan-2017') & (loans.last_credit_pull_d == 'Dec-2017') & (loans.loan_status == 'Current')]"
   ]
  },
  {
   "cell_type": "markdown",
   "metadata": {},
   "source": [
    "### Change in FICO score from Jan 2017 to Dec 2017"
   ]
  },
  {
   "cell_type": "code",
   "execution_count": 131,
   "metadata": {},
   "outputs": [
    {
     "name": "stdout",
     "output_type": "stream",
     "text": [
      "Min change = -340.0\n",
      "Max change = 77.5\n",
      "Average change = 2.08994034569\n"
     ]
    }
   ],
   "source": [
    "print \"Min change = {}\".format(jan_loans.fico_change.min())\n",
    "print \"Max change = {}\".format(jan_loans.fico_change.max())\n",
    "print \"Average change = {}\".format(jan_loans.fico_change.mean())"
   ]
  },
  {
   "cell_type": "code",
   "execution_count": 132,
   "metadata": {},
   "outputs": [
    {
     "data": {
      "image/png": "[encoded data removed]",
      "text/plain": [
       "<matplotlib.figure.Figure at 0x117c1f490>"
      ]
     },
     "metadata": {},
     "output_type": "display_data"
    }
   ],
   "source": [
    "jan_loans.loc[abs(jan_loans.fico_change) > jan_loans.fico_change.quantile(.99), 'fico_change'] = jan_loans.fico_change.median()\n",
    "sns.distplot(jan_loans.fico_change, bins=30, kde=False);"
   ]
  }
 ],
 "metadata": {
  "kernelspec": {
   "display_name": "Python 2",
   "language": "python",
   "name": "python2"
  },
  "language_info": {
   "codemirror_mode": {
    "name": "ipython",
    "version": 2
   },
   "file_extension": ".py",
   "mimetype": "text/x-python",
   "name": "python",
   "nbconvert_exporter": "python",
   "pygments_lexer": "ipython2",
   "version": "2.7.13"
  }
 },
 "nbformat": 4,
 "nbformat_minor": 2
}
