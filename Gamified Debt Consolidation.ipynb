{
 "cells": [
  {
   "cell_type": "code",
   "execution_count": 105,
   "metadata": {
    "collapsed": true
   },
   "outputs": [],
   "source": [
    "import pandas as pd\n",
    "import numpy as np\n",
    "import matplotlib.pyplot as plt\n",
    "plt.style.use('fivethirtyeight')\n",
    "import seaborn as sns\n",
    "%matplotlib inline\n",
    "pd.set_option('display.max_rows', 200)"
   ]
  },
  {
   "cell_type": "code",
   "execution_count": 106,
   "metadata": {
    "collapsed": true
   },
   "outputs": [],
   "source": [
    "def write_to_csv(loans):\n",
    "    num_files = 4\n",
    "    num_loans = loans.shape[0]\n",
    "    loans_per_file = num_loans / num_files\n",
    "    print \"%d loans per file\" % loans_per_file\n",
    "    start = 0\n",
    "    index = 0\n",
    "    while start < num_loans:\n",
    "        filename = './data/loans_2012_to_2013_' + str(index) + '.csv'\n",
    "        loans[start:start+loans_per_file].to_csv(filename, index=False)\n",
    "        print \"%s;%d;%d\" % (filename, start, start+loans_per_file)\n",
    "        start += loans_per_file\n",
    "        index += 1"
   ]
  },
  {
   "cell_type": "markdown",
   "metadata": {},
   "source": [
    "## Read in dataset of all loans issued by Lending Club in 2012 and 2013"
   ]
  },
  {
   "cell_type": "code",
   "execution_count": 107,
   "metadata": {
    "collapsed": true
   },
   "outputs": [],
   "source": [
    "def read_from_csv():\n",
    "    dataframes = []\n",
    "    for i in range(5):\n",
    "        filename = './data/loans_2012_to_2013_' + str(i) + '.csv'\n",
    "        df = pd.read_csv(filename, low_memory=False)\n",
    "        dataframes.append(df)\n",
    "    loans = pd.concat(dataframes)\n",
    "    return loans"
   ]
  },
  {
   "cell_type": "code",
   "execution_count": 108,
   "metadata": {
    "collapsed": true
   },
   "outputs": [],
   "source": [
    "loans = read_from_csv()"
   ]
  },
  {
   "cell_type": "markdown",
   "metadata": {},
   "source": [
    "# 154,621 of the 188,181 loans were taken out for credit card debt consolidation. We will only look at those loans for this analysis"
   ]
  },
  {
   "cell_type": "code",
   "execution_count": 109,
   "metadata": {},
   "outputs": [
    {
     "data": {
      "text/plain": [
       "(188181, 145)"
      ]
     },
     "execution_count": 109,
     "metadata": {},
     "output_type": "execute_result"
    }
   ],
   "source": [
    "loans.shape"
   ]
  },
  {
   "cell_type": "code",
   "execution_count": 110,
   "metadata": {},
   "outputs": [
    {
     "data": {
      "text/plain": [
       "debt_consolidation    111451\n",
       "credit_card            43170\n",
       "home_improvement       10297\n",
       "other                   8896\n",
       "major_purchase          3659\n",
       "small_business          2745\n",
       "car                     1951\n",
       "medical                 1519\n",
       "wedding                 1331\n",
       "house                   1093\n",
       "moving                  1038\n",
       "vacation                 909\n",
       "renewable_energy         122\n",
       "Name: purpose, dtype: int64"
      ]
     },
     "execution_count": 110,
     "metadata": {},
     "output_type": "execute_result"
    }
   ],
   "source": [
    "loans.purpose.value_counts()"
   ]
  },
  {
   "cell_type": "code",
   "execution_count": 111,
   "metadata": {
    "collapsed": true
   },
   "outputs": [],
   "source": [
    "consolidation_loans = loans[(loans['purpose'] == 'debt_consolidation') | (loans['purpose'] == 'credit_card')]"
   ]
  },
  {
   "cell_type": "code",
   "execution_count": 112,
   "metadata": {},
   "outputs": [
    {
     "data": {
      "text/plain": [
       "(154621, 145)"
      ]
     },
     "execution_count": 112,
     "metadata": {},
     "output_type": "execute_result"
    }
   ],
   "source": [
    "consolidation_loans.shape"
   ]
  },
  {
   "cell_type": "markdown",
   "metadata": {},
   "source": [
    "# Some exploratory data analysis"
   ]
  },
  {
   "cell_type": "markdown",
   "metadata": {},
   "source": [
    "First remove all loans that haven't matured yet.\n",
    "We want to know\n",
    "* average interest rate by subgrade\n",
    "* average other debt. Any correlation to loan amount or grade.\n",
    "* amortization chart of high vs low interest\n",
    "* default rate by subgrade\n",
    "* model of reducing interest rate by x% for good behavior, decrease default by y%. Is return of portfolio greater?"
   ]
  },
  {
   "cell_type": "code",
   "execution_count": 113,
   "metadata": {},
   "outputs": [
    {
     "data": {
      "text/plain": [
       "Fully Paid            123870\n",
       "Charged Off            23745\n",
       "Current                 6588\n",
       "Late (31-120 days)       224\n",
       "In Grace Period          140\n",
       "Late (16-30 days)         53\n",
       "Default                    1\n",
       "Name: loan_status, dtype: int64"
      ]
     },
     "execution_count": 113,
     "metadata": {},
     "output_type": "execute_result"
    }
   ],
   "source": [
    "consolidation_loans.loan_status.value_counts()"
   ]
  },
  {
   "cell_type": "code",
   "execution_count": 114,
   "metadata": {},
   "outputs": [],
   "source": [
    "# Remove whitespace from term and loan_status\n",
    "consolidation_loans.term = consolidation_loans.term.apply(lambda x: x.strip())\n",
    "consolidation_loans.loan_status = consolidation_loans.loan_status.apply(lambda x: x.strip())"
   ]
  },
  {
   "cell_type": "code",
   "execution_count": 115,
   "metadata": {
    "collapsed": true
   },
   "outputs": [],
   "source": [
    "# Remove loans that are still current\n",
    "consolidation_loans = consolidation_loans.loc[(consolidation_loans.loan_status == 'Fully Paid')\n",
    "                                              | (consolidation_loans.loan_status == 'Charged Off'),]"
   ]
  },
  {
   "cell_type": "code",
   "execution_count": 116,
   "metadata": {
    "collapsed": true
   },
   "outputs": [],
   "source": [
    "# Convert int_rate column to a float\n",
    "consolidation_loans.int_rate = consolidation_loans.int_rate.apply(lambda x: float(x.strip()[:-1]))"
   ]
  },
  {
   "cell_type": "markdown",
   "metadata": {},
   "source": [
    "Do these borrowers have other debt?"
   ]
  },
  {
   "cell_type": "code",
   "execution_count": 117,
   "metadata": {
    "collapsed": true
   },
   "outputs": [],
   "source": [
    "# Average interest rate and charge off by subgrade\n",
    "sub_grades = pd.unique(consolidation_loans.sub_grade)\n",
    "sub_grades.sort()\n",
    "mean_int_rates = []\n",
    "charge_off_percentage = []\n",
    "for sub_grade in sub_grades:\n",
    "    mean_int_rates.append(consolidation_loans.loc[consolidation_loans.sub_grade == sub_grade, 'int_rate'].mean())\n",
    "    num_charge_offs = consolidation_loans.loc[(consolidation_loans.sub_grade == sub_grade)\n",
    "                                              & (consolidation_loans.loan_status == 'Charged Off')].shape[0]\n",
    "    num_loans = consolidation_loans.loc[(consolidation_loans.sub_grade == sub_grade)].shape[0]\n",
    "    charge_off_percentage.append(float(num_charge_offs) / num_loans)"
   ]
  },
  {
   "cell_type": "markdown",
   "metadata": {},
   "source": [
    "## Following conventions, interest rate is directly proportional to borrower credit risk"
   ]
  },
  {
   "cell_type": "code",
   "execution_count": 118,
   "metadata": {},
   "outputs": [
    {
     "data": {
      "image/png": "[encoded data removed]",
      "text/plain": [
       "<matplotlib.figure.Figure at 0x116b479d0>"
      ]
     },
     "metadata": {},
     "output_type": "display_data"
    },
    {
     "data": {
      "text/plain": [
       "<matplotlib.figure.Figure at 0x116b80b10>"
      ]
     },
     "metadata": {},
     "output_type": "display_data"
    }
   ],
   "source": [
    "fig = plt.figure(figsize=(15, 5))\n",
    "bar_locations = np.arange(len(sub_grades))\n",
    "plt.bar(bar_locations, mean_int_rates);\n",
    "plt.xticks(bar_locations, sub_grades)\n",
    "plt.ylabel('Average Interest Rate')\n",
    "plt.title('Loan subgrade vs Interest Rate')\n",
    "plt.figure(figsize=(35,5))\n",
    "plt.show()"
   ]
  },
  {
   "cell_type": "markdown",
   "metadata": {},
   "source": [
    "## As expected, default rates are higher in the lower grade loans"
   ]
  },
  {
   "cell_type": "code",
   "execution_count": 119,
   "metadata": {},
   "outputs": [
    {
     "data": {
      "image/png": "[encoded data removed]",
      "text/plain": [
       "<matplotlib.figure.Figure at 0x115a6b750>"
      ]
     },
     "metadata": {},
     "output_type": "display_data"
    },
    {
     "data": {
      "text/plain": [
       "<matplotlib.figure.Figure at 0x115a1c290>"
      ]
     },
     "metadata": {},
     "output_type": "display_data"
    }
   ],
   "source": [
    "fig = plt.figure(figsize=(15, 5))\n",
    "bar_locations = np.arange(len(sub_grades))\n",
    "plt.bar(bar_locations, charge_off_percentage);\n",
    "plt.xticks(bar_locations, sub_grades)\n",
    "plt.ylabel('Chargeoff rate')\n",
    "plt.title('Loan subgrade vs Chargeoff rate')\n",
    "plt.figure(figsize=(35,5))\n",
    "plt.show()"
   ]
  },
  {
   "cell_type": "markdown",
   "metadata": {},
   "source": [
    "## Let's take a look at 3 year loans"
   ]
  },
  {
   "cell_type": "code",
   "execution_count": 120,
   "metadata": {},
   "outputs": [
    {
     "name": "stdout",
     "output_type": "stream",
     "text": [
      "Average Grade A Interest Rate = 7.722641\n",
      "Average Grade G Interest Rate = 24.969615\n",
      "Average loan amount = $12983\n"
     ]
    }
   ],
   "source": [
    "a_avg_int_rate = consolidation_loans.loc[((consolidation_loans.grade == 'A') &\n",
    "                                          (consolidation_loans.term == '36 months')),].int_rate.mean()\n",
    "g_avg_int_rate = consolidation_loans.loc[((consolidation_loans.grade == 'G') &\n",
    "                                         (consolidation_loans.term == '36 months')),].int_rate.mean()\n",
    "average_loan_amount = consolidation_loans.loc[consolidation_loans.term == '36 months'].loan_amnt.mean()\n",
    "print 'Average Grade A Interest Rate = %f' % a_avg_int_rate\n",
    "print 'Average Grade G Interest Rate = %f' % g_avg_int_rate\n",
    "print 'Average loan amount = $%d' % int(average_loan_amount)"
   ]
  },
  {
   "cell_type": "code",
   "execution_count": 121,
   "metadata": {},
   "outputs": [],
   "source": [
    "class FixedInterestCalculator(object):\n",
    "    \n",
    "    def __init__(self, principal, interest_rate, num_months):\n",
    "        self.principal = principal\n",
    "        self.interest_rate = interest_rate\n",
    "        self.num_months = num_months\n",
    "        self._rate_per_month = interest_rate / 12.0\n",
    "        self._monthly_payment = self.monthly_payment()\n",
    "        self._balance = {}\n",
    "        self._interest_payment = {}\n",
    "        self._principal_payment = {}\n",
    "        \n",
    "    def monthly_payment(self):\n",
    "        r = self.interest_rate / 12.0\n",
    "        payment = (r * self.principal) / (1 - (1 + r)**(-self.num_months))\n",
    "        return payment\n",
    "    \n",
    "    def balance(self, month):\n",
    "        if month == 0:\n",
    "            return self.principal\n",
    "        if month in self._balance:\n",
    "            return self._balance[month]\n",
    "        self._balance[month] = self.balance(month - 1) - self.principal_payment(month)\n",
    "        return self._balance[month]\n",
    "    \n",
    "    def interest_payment(self, month):\n",
    "        if month == 0:\n",
    "            return 0.0\n",
    "        if month in self._interest_payment:\n",
    "            return self._interest_payment[month]\n",
    "        self._interest_payment[month] = self._rate_per_month * self.balance(month - 1)\n",
    "        return self._interest_payment[month]\n",
    "    \n",
    "    def principal_payment(self, month):\n",
    "        if month == 0:\n",
    "            return 0.0\n",
    "        if month in self._principal_payment:\n",
    "            return self._principal_payment[month]\n",
    "        self._principal_payment[month] = self._monthly_payment - self.interest_payment(month)\n",
    "        return self._principal_payment[month]"
   ]
  },
  {
   "cell_type": "markdown",
   "metadata": {},
   "source": [
    "### What does the amortization look like for the average grade A, 3 year loan ($12983 at 7.72% interest)?"
   ]
  },
  {
   "cell_type": "code",
   "execution_count": 122,
   "metadata": {},
   "outputs": [],
   "source": [
    "calculator = FixedInterestCalculator(12983.00, 0.0772, 36)\n",
    "months = np.arange(1, 37)\n",
    "interest, principal = [], []\n",
    "for month in months:\n",
    "    interest.append(calculator.interest_payment(month))\n",
    "    principal.append(calculator.principal_payment(month))"
   ]
  },
  {
   "cell_type": "code",
   "execution_count": 123,
   "metadata": {},
   "outputs": [
    {
     "data": {
      "image/png": "[encoded data removed]",
      "text/plain": [
       "<matplotlib.figure.Figure at 0x115abbc10>"
      ]
     },
     "metadata": {},
     "output_type": "display_data"
    },
    {
     "data": {
      "text/plain": [
       "<matplotlib.figure.Figure at 0x1168a4810>"
      ]
     },
     "metadata": {},
     "output_type": "display_data"
    }
   ],
   "source": [
    "width = 0.75\n",
    "fig = plt.figure(figsize=(15, 5))\n",
    "p1 = plt.bar(months, principal, width)\n",
    "p2 = plt.bar(months, interest, width, bottom=principal)\n",
    "plt.ylabel('Monthly Payment')\n",
    "plt.title('Principal and interest payments')\n",
    "plt.xticks(months)\n",
    "plt.legend((p1[0], p2[0]), ('Principal', 'Interest'))\n",
    "plt.figure(figsize=(60,5))\n",
    "plt.show();"
   ]
  },
  {
   "cell_type": "code",
   "execution_count": 124,
   "metadata": {},
   "outputs": [
    {
     "name": "stdout",
     "output_type": "stream",
     "text": [
      "Monthly payments = $405.17\n",
      "Total interest paid = $1602.94\n"
     ]
    }
   ],
   "source": [
    "print \"Monthly payments = $%.2f\" % calculator.monthly_payment()\n",
    "print \"Total interest paid = $%.2f\" % sum(interest)"
   ]
  },
  {
   "cell_type": "markdown",
   "metadata": {},
   "source": [
    "### What does the respective amortization look like for the average grade G, 3 year loan ($12983 at 11.90% interest)"
   ]
  },
  {
   "cell_type": "code",
   "execution_count": 125,
   "metadata": {
    "collapsed": true
   },
   "outputs": [],
   "source": [
    "calculator = FixedInterestCalculator(12983.00, 0.24967, 36)\n",
    "months = np.arange(1, 37)\n",
    "interest, principal = [], []\n",
    "for month in months:\n",
    "    interest.append(calculator.interest_payment(month))\n",
    "    principal.append(calculator.principal_payment(month))"
   ]
  },
  {
   "cell_type": "code",
   "execution_count": 126,
   "metadata": {},
   "outputs": [
    {
     "data": {
      "image/png": "[encoded data removed]",
      "text/plain": [
       "<matplotlib.figure.Figure at 0x112cdb550>"
      ]
     },
     "metadata": {},
     "output_type": "display_data"
    },
    {
     "data": {
      "text/plain": [
       "<matplotlib.figure.Figure at 0x116b79390>"
      ]
     },
     "metadata": {},
     "output_type": "display_data"
    }
   ],
   "source": [
    "width = 0.75\n",
    "fig = plt.figure(figsize=(15, 5))\n",
    "p1 = plt.bar(months, principal, width)\n",
    "p2 = plt.bar(months, interest, width, bottom=principal)\n",
    "plt.ylabel('Monthly Payment')\n",
    "plt.title('Principal and interest payments')\n",
    "plt.xticks(months)\n",
    "plt.legend((p1[0], p2[0]), ('Principal', 'Interest'))\n",
    "plt.figure(figsize=(60,5))\n",
    "plt.show();"
   ]
  },
  {
   "cell_type": "code",
   "execution_count": 127,
   "metadata": {},
   "outputs": [
    {
     "name": "stdout",
     "output_type": "stream",
     "text": [
      "Monthly payments = $515.98\n",
      "Total interest paid = $5592.11\n"
     ]
    }
   ],
   "source": [
    "print \"Monthly payments = $%.2f\" % calculator.monthly_payment()\n",
    "print \"Total interest paid = $%.2f\" % sum(interest)"
   ]
  },
  {
   "cell_type": "code",
   "execution_count": null,
   "metadata": {
    "collapsed": true
   },
   "outputs": [],
   "source": []
  }
 ],
 "metadata": {
  "kernelspec": {
   "display_name": "Python 2",
   "language": "python",
   "name": "python2"
  },
  "language_info": {
   "codemirror_mode": {
    "name": "ipython",
    "version": 2
   },
   "file_extension": ".py",
   "mimetype": "text/x-python",
   "name": "python",
   "nbconvert_exporter": "python",
   "pygments_lexer": "ipython2",
   "version": "2.7.13"
  }
 },
 "nbformat": 4,
 "nbformat_minor": 2
}
