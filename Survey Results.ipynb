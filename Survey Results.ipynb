{
 "cells": [
  {
   "cell_type": "code",
   "execution_count": 27,
   "metadata": {
    "collapsed": true
   },
   "outputs": [],
   "source": [
    "import pandas as pd\n",
    "import numpy as np\n",
    "import matplotlib.pyplot as plt\n",
    "plt.style.use('fivethirtyeight')\n",
    "import seaborn as sns\n",
    "%matplotlib inline\n",
    "pd.set_option('display.max_rows', 200)"
   ]
  },
  {
   "cell_type": "code",
   "execution_count": 28,
   "metadata": {
    "collapsed": true
   },
   "outputs": [],
   "source": [
    "df = pd.read_csv('./data/survata_results.csv', low_memory=False)"
   ]
  },
  {
   "cell_type": "code",
   "execution_count": 29,
   "metadata": {},
   "outputs": [
    {
     "data": {
      "text/plain": [
       "(242, 67)"
      ]
     },
     "execution_count": 29,
     "metadata": {},
     "output_type": "execute_result"
    }
   ],
   "source": [
    "df.shape"
   ]
  },
  {
   "cell_type": "markdown",
   "metadata": {},
   "source": [
    "## How much outstanding credit card debt do the survey participants have?"
   ]
  },
  {
   "cell_type": "code",
   "execution_count": 30,
   "metadata": {},
   "outputs": [],
   "source": [
    "def bucketize_debt(x):\n",
    "    if x < 500:\n",
    "        bucket = '0 to 499'\n",
    "    elif x < 1000:\n",
    "        bucket = '500 to 999'\n",
    "    elif x < 5000:\n",
    "        bucket = '1,000 to 4,999'\n",
    "    elif x < 10000:\n",
    "        bucket = '5,000 to 9,999'\n",
    "    else:\n",
    "        bucket = '>= 10,000'\n",
    "    return bucket\n",
    "df['debt_amount'] = df['Approximately how much credit card debt do you have (in US $)?'].apply(bucketize_debt)"
   ]
  },
  {
   "cell_type": "code",
   "execution_count": 31,
   "metadata": {},
   "outputs": [
    {
     "data": {
      "image/png": "[encoded data removed]",
      "text/plain": [
       "<matplotlib.figure.Figure at 0x1108f2910>"
      ]
     },
     "metadata": {},
     "output_type": "display_data"
    }
   ],
   "source": [
    "df.debt_amount.value_counts().plot(kind='bar');"
   ]
  },
  {
   "cell_type": "markdown",
   "metadata": {},
   "source": [
    "### Why haven't they dealt with it?"
   ]
  },
  {
   "cell_type": "code",
   "execution_count": 60,
   "metadata": {},
   "outputs": [
    {
     "data": {
      "text/html": [
       "<div>\n",
       "<style>\n",
       "    .dataframe thead tr:only-child th {\n",
       "        text-align: right;\n",
       "    }\n",
       "\n",
       "    .dataframe thead th {\n",
       "        text-align: left;\n",
       "    }\n",
       "\n",
       "    .dataframe tbody tr th {\n",
       "        vertical-align: top;\n",
       "    }\n",
       "</style>\n",
       "<table border=\"1\" class=\"dataframe\">\n",
       "  <thead>\n",
       "    <tr style=\"text-align: right;\">\n",
       "      <th></th>\n",
       "      <th>Do not have the time</th>\n",
       "      <th>Waiting for some money to come in</th>\n",
       "      <th>Do not want to deal with it now</th>\n",
       "      <th>Seems like a lot of work</th>\n",
       "      <th>Do not know how to deal with it</th>\n",
       "      <th>I don't know</th>\n",
       "    </tr>\n",
       "    <tr>\n",
       "      <th>debt_amount</th>\n",
       "      <th></th>\n",
       "      <th></th>\n",
       "      <th></th>\n",
       "      <th></th>\n",
       "      <th></th>\n",
       "      <th></th>\n",
       "    </tr>\n",
       "  </thead>\n",
       "  <tbody>\n",
       "    <tr>\n",
       "      <th>0 to 499</th>\n",
       "      <td>1</td>\n",
       "      <td>11</td>\n",
       "      <td>3</td>\n",
       "      <td>2</td>\n",
       "      <td>1</td>\n",
       "      <td>3</td>\n",
       "    </tr>\n",
       "    <tr>\n",
       "      <th>1,000 to 4,999</th>\n",
       "      <td>9</td>\n",
       "      <td>64</td>\n",
       "      <td>5</td>\n",
       "      <td>7</td>\n",
       "      <td>13</td>\n",
       "      <td>1</td>\n",
       "    </tr>\n",
       "    <tr>\n",
       "      <th>5,000 to 9,999</th>\n",
       "      <td>0</td>\n",
       "      <td>10</td>\n",
       "      <td>4</td>\n",
       "      <td>2</td>\n",
       "      <td>4</td>\n",
       "      <td>2</td>\n",
       "    </tr>\n",
       "    <tr>\n",
       "      <th>500 to 999</th>\n",
       "      <td>1</td>\n",
       "      <td>7</td>\n",
       "      <td>1</td>\n",
       "      <td>0</td>\n",
       "      <td>3</td>\n",
       "      <td>1</td>\n",
       "    </tr>\n",
       "    <tr>\n",
       "      <th>&gt;= 10,000</th>\n",
       "      <td>2</td>\n",
       "      <td>21</td>\n",
       "      <td>1</td>\n",
       "      <td>4</td>\n",
       "      <td>14</td>\n",
       "      <td>1</td>\n",
       "    </tr>\n",
       "  </tbody>\n",
       "</table>\n",
       "</div>"
      ],
      "text/plain": [
       "                Do not have the time  Waiting for some money to come in  \\\n",
       "debt_amount                                                               \n",
       "0 to 499                           1                                 11   \n",
       "1,000 to 4,999                     9                                 64   \n",
       "5,000 to 9,999                     0                                 10   \n",
       "500 to 999                         1                                  7   \n",
       ">= 10,000                          2                                 21   \n",
       "\n",
       "                Do not want to deal with it now  Seems like a lot of work  \\\n",
       "debt_amount                                                                 \n",
       "0 to 499                                      3                         2   \n",
       "1,000 to 4,999                                5                         7   \n",
       "5,000 to 9,999                                4                         2   \n",
       "500 to 999                                    1                         0   \n",
       ">= 10,000                                     1                         4   \n",
       "\n",
       "                Do not know how to deal with it  I don't know  \n",
       "debt_amount                                                    \n",
       "0 to 499                                      1             3  \n",
       "1,000 to 4,999                               13             1  \n",
       "5,000 to 9,999                                4             2  \n",
       "500 to 999                                    3             1  \n",
       ">= 10,000                                    14             1  "
      ]
     },
     "execution_count": 60,
     "metadata": {},
     "output_type": "execute_result"
    }
   ],
   "source": [
    "df.groupby(['debt_amount'])[['Do not have the time', 'Waiting for some money to come in', 'Do not want to deal with it now', 'Seems like a lot of work', 'Do not know how to deal with it', \"I don't know\"]].sum()"
   ]
  },
  {
   "cell_type": "markdown",
   "metadata": {},
   "source": [
    "### How much does it bother them?"
   ]
  },
  {
   "cell_type": "code",
   "execution_count": 68,
   "metadata": {},
   "outputs": [
    {
     "data": {
      "text/plain": [
       "debt_amount\n",
       "0 to 499          2.900000\n",
       "500 to 999        3.411765\n",
       "1,000 to 4,999    3.509091\n",
       "5,000 to 9,999    4.093750\n",
       ">= 10,000         4.358491\n",
       "Name: On a scale of 1 to 5, how much does your credit card debt bother you? (Out of 5), dtype: float64"
      ]
     },
     "execution_count": 68,
     "metadata": {},
     "output_type": "execute_result"
    }
   ],
   "source": [
    "df.groupby(['debt_amount'])['On a scale of 1 to 5, how much does your credit card debt bother you? (Out of 5)'].mean().sort_values()"
   ]
  },
  {
   "cell_type": "markdown",
   "metadata": {},
   "source": [
    "As expected, the higher the debt, the more it bothers someone"
   ]
  },
  {
   "cell_type": "markdown",
   "metadata": {},
   "source": [
    "### How long have they been carrying this debt?"
   ]
  },
  {
   "cell_type": "code",
   "execution_count": 76,
   "metadata": {},
   "outputs": [
    {
     "data": {
      "text/html": [
       "<div>\n",
       "<style>\n",
       "    .dataframe thead tr:only-child th {\n",
       "        text-align: right;\n",
       "    }\n",
       "\n",
       "    .dataframe thead th {\n",
       "        text-align: left;\n",
       "    }\n",
       "\n",
       "    .dataframe tbody tr th {\n",
       "        vertical-align: top;\n",
       "    }\n",
       "</style>\n",
       "<table border=\"1\" class=\"dataframe\">\n",
       "  <thead>\n",
       "    <tr style=\"text-align: right;\">\n",
       "      <th>For how long have you been carrying this credit card debt?</th>\n",
       "      <th>1 to 2 years</th>\n",
       "      <th>1 to 3 months</th>\n",
       "      <th>2 to 4 years</th>\n",
       "      <th>3 to 6 months</th>\n",
       "      <th>6 months to 1 year</th>\n",
       "      <th>More than 4 years</th>\n",
       "    </tr>\n",
       "    <tr>\n",
       "      <th>debt_amount</th>\n",
       "      <th></th>\n",
       "      <th></th>\n",
       "      <th></th>\n",
       "      <th></th>\n",
       "      <th></th>\n",
       "      <th></th>\n",
       "    </tr>\n",
       "  </thead>\n",
       "  <tbody>\n",
       "    <tr>\n",
       "      <th>0 to 499</th>\n",
       "      <td>4</td>\n",
       "      <td>12</td>\n",
       "      <td>1</td>\n",
       "      <td>8</td>\n",
       "      <td>4</td>\n",
       "      <td>1</td>\n",
       "    </tr>\n",
       "    <tr>\n",
       "      <th>1,000 to 4,999</th>\n",
       "      <td>24</td>\n",
       "      <td>14</td>\n",
       "      <td>11</td>\n",
       "      <td>20</td>\n",
       "      <td>31</td>\n",
       "      <td>10</td>\n",
       "    </tr>\n",
       "    <tr>\n",
       "      <th>5,000 to 9,999</th>\n",
       "      <td>11</td>\n",
       "      <td>0</td>\n",
       "      <td>3</td>\n",
       "      <td>6</td>\n",
       "      <td>7</td>\n",
       "      <td>5</td>\n",
       "    </tr>\n",
       "    <tr>\n",
       "      <th>500 to 999</th>\n",
       "      <td>4</td>\n",
       "      <td>5</td>\n",
       "      <td>1</td>\n",
       "      <td>3</td>\n",
       "      <td>2</td>\n",
       "      <td>2</td>\n",
       "    </tr>\n",
       "    <tr>\n",
       "      <th>&gt;= 10,000</th>\n",
       "      <td>14</td>\n",
       "      <td>2</td>\n",
       "      <td>9</td>\n",
       "      <td>2</td>\n",
       "      <td>14</td>\n",
       "      <td>12</td>\n",
       "    </tr>\n",
       "  </tbody>\n",
       "</table>\n",
       "</div>"
      ],
      "text/plain": [
       "For how long have you been carrying this credit card debt?  1 to 2 years  \\\n",
       "debt_amount                                                                \n",
       "0 to 499                                                               4   \n",
       "1,000 to 4,999                                                        24   \n",
       "5,000 to 9,999                                                        11   \n",
       "500 to 999                                                             4   \n",
       ">= 10,000                                                             14   \n",
       "\n",
       "For how long have you been carrying this credit card debt?  1 to 3 months  \\\n",
       "debt_amount                                                                 \n",
       "0 to 499                                                               12   \n",
       "1,000 to 4,999                                                         14   \n",
       "5,000 to 9,999                                                          0   \n",
       "500 to 999                                                              5   \n",
       ">= 10,000                                                               2   \n",
       "\n",
       "For how long have you been carrying this credit card debt?  2 to 4 years  \\\n",
       "debt_amount                                                                \n",
       "0 to 499                                                               1   \n",
       "1,000 to 4,999                                                        11   \n",
       "5,000 to 9,999                                                         3   \n",
       "500 to 999                                                             1   \n",
       ">= 10,000                                                              9   \n",
       "\n",
       "For how long have you been carrying this credit card debt?  3 to 6 months  \\\n",
       "debt_amount                                                                 \n",
       "0 to 499                                                                8   \n",
       "1,000 to 4,999                                                         20   \n",
       "5,000 to 9,999                                                          6   \n",
       "500 to 999                                                              3   \n",
       ">= 10,000                                                               2   \n",
       "\n",
       "For how long have you been carrying this credit card debt?  6 months to 1 year  \\\n",
       "debt_amount                                                                      \n",
       "0 to 499                                                                     4   \n",
       "1,000 to 4,999                                                              31   \n",
       "5,000 to 9,999                                                               7   \n",
       "500 to 999                                                                   2   \n",
       ">= 10,000                                                                   14   \n",
       "\n",
       "For how long have you been carrying this credit card debt?  More than 4 years  \n",
       "debt_amount                                                                    \n",
       "0 to 499                                                                    1  \n",
       "1,000 to 4,999                                                             10  \n",
       "5,000 to 9,999                                                              5  \n",
       "500 to 999                                                                  2  \n",
       ">= 10,000                                                                  12  "
      ]
     },
     "execution_count": 76,
     "metadata": {},
     "output_type": "execute_result"
    }
   ],
   "source": [
    "pd.crosstab(df.debt_amount, df['For how long have you been carrying this credit card debt?'])"
   ]
  },
  {
   "cell_type": "markdown",
   "metadata": {},
   "source": [
    "### How do they plan on paying it down?"
   ]
  },
  {
   "cell_type": "code",
   "execution_count": 75,
   "metadata": {},
   "outputs": [
    {
     "data": {
      "text/html": [
       "<div>\n",
       "<style>\n",
       "    .dataframe thead tr:only-child th {\n",
       "        text-align: right;\n",
       "    }\n",
       "\n",
       "    .dataframe thead th {\n",
       "        text-align: left;\n",
       "    }\n",
       "\n",
       "    .dataframe tbody tr th {\n",
       "        vertical-align: top;\n",
       "    }\n",
       "</style>\n",
       "<table border=\"1\" class=\"dataframe\">\n",
       "  <thead>\n",
       "    <tr style=\"text-align: right;\">\n",
       "      <th>How do you plan to pay down your credit card debt (Select the closest that applies)?</th>\n",
       "      <th>A debt consolidation loan</th>\n",
       "      <th>I have no concrete plan to pay it off</th>\n",
       "      <th>Other: Dave Ramsey</th>\n",
       "      <th>Other: Strategizing income and expenses</th>\n",
       "      <th>Other: When I get a job</th>\n",
       "      <th>Pay a fixed amount every month</th>\n",
       "      <th>Whenever I feel I have some extra money</th>\n",
       "      <th>With a bonus from work</th>\n",
       "      <th>With my tax refund</th>\n",
       "    </tr>\n",
       "    <tr>\n",
       "      <th>debt_amount</th>\n",
       "      <th></th>\n",
       "      <th></th>\n",
       "      <th></th>\n",
       "      <th></th>\n",
       "      <th></th>\n",
       "      <th></th>\n",
       "      <th></th>\n",
       "      <th></th>\n",
       "      <th></th>\n",
       "    </tr>\n",
       "  </thead>\n",
       "  <tbody>\n",
       "    <tr>\n",
       "      <th>0 to 499</th>\n",
       "      <td>0</td>\n",
       "      <td>4</td>\n",
       "      <td>0</td>\n",
       "      <td>0</td>\n",
       "      <td>0</td>\n",
       "      <td>10</td>\n",
       "      <td>8</td>\n",
       "      <td>3</td>\n",
       "      <td>5</td>\n",
       "    </tr>\n",
       "    <tr>\n",
       "      <th>1,000 to 4,999</th>\n",
       "      <td>1</td>\n",
       "      <td>11</td>\n",
       "      <td>1</td>\n",
       "      <td>0</td>\n",
       "      <td>1</td>\n",
       "      <td>42</td>\n",
       "      <td>18</td>\n",
       "      <td>8</td>\n",
       "      <td>28</td>\n",
       "    </tr>\n",
       "    <tr>\n",
       "      <th>5,000 to 9,999</th>\n",
       "      <td>2</td>\n",
       "      <td>6</td>\n",
       "      <td>0</td>\n",
       "      <td>1</td>\n",
       "      <td>0</td>\n",
       "      <td>8</td>\n",
       "      <td>7</td>\n",
       "      <td>2</td>\n",
       "      <td>6</td>\n",
       "    </tr>\n",
       "    <tr>\n",
       "      <th>500 to 999</th>\n",
       "      <td>0</td>\n",
       "      <td>3</td>\n",
       "      <td>0</td>\n",
       "      <td>0</td>\n",
       "      <td>0</td>\n",
       "      <td>5</td>\n",
       "      <td>0</td>\n",
       "      <td>2</td>\n",
       "      <td>7</td>\n",
       "    </tr>\n",
       "    <tr>\n",
       "      <th>&gt;= 10,000</th>\n",
       "      <td>2</td>\n",
       "      <td>10</td>\n",
       "      <td>0</td>\n",
       "      <td>0</td>\n",
       "      <td>0</td>\n",
       "      <td>15</td>\n",
       "      <td>11</td>\n",
       "      <td>5</td>\n",
       "      <td>10</td>\n",
       "    </tr>\n",
       "  </tbody>\n",
       "</table>\n",
       "</div>"
      ],
      "text/plain": [
       "How do you plan to pay down your credit card debt (Select the closest that applies)?  A debt consolidation loan  \\\n",
       "debt_amount                                                                                                       \n",
       "0 to 499                                                                                                      0   \n",
       "1,000 to 4,999                                                                                                1   \n",
       "5,000 to 9,999                                                                                                2   \n",
       "500 to 999                                                                                                    0   \n",
       ">= 10,000                                                                                                     2   \n",
       "\n",
       "How do you plan to pay down your credit card debt (Select the closest that applies)?  I have no concrete plan to pay it off  \\\n",
       "debt_amount                                                                                                                   \n",
       "0 to 499                                                                                                                  4   \n",
       "1,000 to 4,999                                                                                                           11   \n",
       "5,000 to 9,999                                                                                                            6   \n",
       "500 to 999                                                                                                                3   \n",
       ">= 10,000                                                                                                                10   \n",
       "\n",
       "How do you plan to pay down your credit card debt (Select the closest that applies)?  Other: Dave Ramsey  \\\n",
       "debt_amount                                                                                                \n",
       "0 to 499                                                                                               0   \n",
       "1,000 to 4,999                                                                                         1   \n",
       "5,000 to 9,999                                                                                         0   \n",
       "500 to 999                                                                                             0   \n",
       ">= 10,000                                                                                              0   \n",
       "\n",
       "How do you plan to pay down your credit card debt (Select the closest that applies)?  Other: Strategizing income and expenses  \\\n",
       "debt_amount                                                                                                                     \n",
       "0 to 499                                                                                                                    0   \n",
       "1,000 to 4,999                                                                                                              0   \n",
       "5,000 to 9,999                                                                                                              1   \n",
       "500 to 999                                                                                                                  0   \n",
       ">= 10,000                                                                                                                   0   \n",
       "\n",
       "How do you plan to pay down your credit card debt (Select the closest that applies)?  Other: When I get a job  \\\n",
       "debt_amount                                                                                                     \n",
       "0 to 499                                                                                                    0   \n",
       "1,000 to 4,999                                                                                              1   \n",
       "5,000 to 9,999                                                                                              0   \n",
       "500 to 999                                                                                                  0   \n",
       ">= 10,000                                                                                                   0   \n",
       "\n",
       "How do you plan to pay down your credit card debt (Select the closest that applies)?  Pay a fixed amount every month  \\\n",
       "debt_amount                                                                                                            \n",
       "0 to 499                                                                                                          10   \n",
       "1,000 to 4,999                                                                                                    42   \n",
       "5,000 to 9,999                                                                                                     8   \n",
       "500 to 999                                                                                                         5   \n",
       ">= 10,000                                                                                                         15   \n",
       "\n",
       "How do you plan to pay down your credit card debt (Select the closest that applies)?  Whenever I feel I have some extra money  \\\n",
       "debt_amount                                                                                                                     \n",
       "0 to 499                                                                                                                    8   \n",
       "1,000 to 4,999                                                                                                             18   \n",
       "5,000 to 9,999                                                                                                              7   \n",
       "500 to 999                                                                                                                  0   \n",
       ">= 10,000                                                                                                                  11   \n",
       "\n",
       "How do you plan to pay down your credit card debt (Select the closest that applies)?  With a bonus from work  \\\n",
       "debt_amount                                                                                                    \n",
       "0 to 499                                                                                                   3   \n",
       "1,000 to 4,999                                                                                             8   \n",
       "5,000 to 9,999                                                                                             2   \n",
       "500 to 999                                                                                                 2   \n",
       ">= 10,000                                                                                                  5   \n",
       "\n",
       "How do you plan to pay down your credit card debt (Select the closest that applies)?  With my tax refund  \n",
       "debt_amount                                                                                               \n",
       "0 to 499                                                                                               5  \n",
       "1,000 to 4,999                                                                                        28  \n",
       "5,000 to 9,999                                                                                         6  \n",
       "500 to 999                                                                                             7  \n",
       ">= 10,000                                                                                             10  "
      ]
     },
     "execution_count": 75,
     "metadata": {},
     "output_type": "execute_result"
    }
   ],
   "source": [
    "pd.crosstab(df.debt_amount, df['How do you plan to pay down your credit card debt (Select the closest that applies)?'])"
   ]
  }
 ],
 "metadata": {
  "kernelspec": {
   "display_name": "Python 2",
   "language": "python",
   "name": "python2"
  },
  "language_info": {
   "codemirror_mode": {
    "name": "ipython",
    "version": 2
   },
   "file_extension": ".py",
   "mimetype": "text/x-python",
   "name": "python",
   "nbconvert_exporter": "python",
   "pygments_lexer": "ipython2",
   "version": "2.7.13"
  }
 },
 "nbformat": 4,
 "nbformat_minor": 2
}
